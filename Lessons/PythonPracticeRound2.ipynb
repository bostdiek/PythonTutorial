{
 "cells": [
  {
   "cell_type": "markdown",
   "metadata": {
    "toc": "true"
   },
   "source": [
    "# Table of Contents\n",
    " <p><div class=\"lev1 toc-item\"><a href=\"#Import-and-load-data\" data-toc-modified-id=\"Import-and-load-data-1\"><span class=\"toc-item-num\">1&nbsp;&nbsp;</span>Import and load data</a></div><div class=\"lev2 toc-item\"><a href=\"#Imports\" data-toc-modified-id=\"Imports-11\"><span class=\"toc-item-num\">1.1&nbsp;&nbsp;</span>Imports</a></div><div class=\"lev2 toc-item\"><a href=\"#Load\" data-toc-modified-id=\"Load-12\"><span class=\"toc-item-num\">1.2&nbsp;&nbsp;</span>Load</a></div><div class=\"lev1 toc-item\"><a href=\"#Problem-Statement\" data-toc-modified-id=\"Problem-Statement-2\"><span class=\"toc-item-num\">2&nbsp;&nbsp;</span>Problem Statement</a></div><div class=\"lev2 toc-item\"><a href=\"#Examine-the-data\" data-toc-modified-id=\"Examine-the-data-21\"><span class=\"toc-item-num\">2.1&nbsp;&nbsp;</span>Examine the data</a></div><div class=\"lev2 toc-item\"><a href=\"#Write-functions\" data-toc-modified-id=\"Write-functions-22\"><span class=\"toc-item-num\">2.2&nbsp;&nbsp;</span>Write functions</a></div><div class=\"lev3 toc-item\"><a href=\"#Transverse-Momentum\" data-toc-modified-id=\"Transverse-Momentum-221\"><span class=\"toc-item-num\">2.2.1&nbsp;&nbsp;</span>Transverse Momentum</a></div><div class=\"lev4 toc-item\"><a href=\"#Add-to-DataFrame\" data-toc-modified-id=\"Add-to-DataFrame-2211\"><span class=\"toc-item-num\">2.2.1.1&nbsp;&nbsp;</span>Add to DataFrame</a></div><div class=\"lev3 toc-item\"><a href=\"#Rapidity\" data-toc-modified-id=\"Rapidity-222\"><span class=\"toc-item-num\">2.2.2&nbsp;&nbsp;</span>Rapidity</a></div><div class=\"lev4 toc-item\"><a href=\"#Add-to-DataFrame\" data-toc-modified-id=\"Add-to-DataFrame-2221\"><span class=\"toc-item-num\">2.2.2.1&nbsp;&nbsp;</span>Add to DataFrame</a></div><div class=\"lev3 toc-item\"><a href=\"#Invariant-mass\" data-toc-modified-id=\"Invariant-mass-223\"><span class=\"toc-item-num\">2.2.3&nbsp;&nbsp;</span>Invariant mass</a></div><div class=\"lev2 toc-item\"><a href=\"#Plot-the-distributions\" data-toc-modified-id=\"Plot-the-distributions-23\"><span class=\"toc-item-num\">2.3&nbsp;&nbsp;</span>Plot the distributions</a></div>"
   ]
  },
  {
   "cell_type": "markdown",
   "metadata": {},
   "source": [
    "# Import and load data"
   ]
  },
  {
   "cell_type": "markdown",
   "metadata": {},
   "source": [
    "## Imports"
   ]
  },
  {
   "cell_type": "code",
   "execution_count": 1,
   "metadata": {
    "collapsed": true
   },
   "outputs": [],
   "source": [
    "%matplotlib inline\n",
    "\n",
    "import pandas as pd\n",
    "import numpy as np\n",
    "\n",
    "import matplotlib.pyplot as plt\n",
    "\n",
    "\n",
    "plt.rcParams.update({'font.family':'cmr10','font.size': 13})\n",
    "plt.rcParams['axes.unicode_minus']=False\n",
    "plt.rcParams['axes.labelsize']=15\n",
    "plt.rcParams['figure.figsize']=(4,4)"
   ]
  },
  {
   "cell_type": "markdown",
   "metadata": {},
   "source": [
    "## Load"
   ]
  },
  {
   "cell_type": "code",
   "execution_count": 2,
   "metadata": {
    "collapsed": true
   },
   "outputs": [],
   "source": [
    "TotalSet = pd.read_csv('../Data/PracticeDataset.dat', index_col=0)"
   ]
  },
  {
   "cell_type": "code",
   "execution_count": 4,
   "metadata": {
    "collapsed": false
   },
   "outputs": [
    {
     "name": "stdout",
     "output_type": "stream",
     "text": [
      "e1, px1, py1, pz1, e2, px2, py2, pz2, type\n"
     ]
    }
   ],
   "source": [
    "print ', '.join(TotalSet.columns)"
   ]
  },
  {
   "cell_type": "markdown",
   "metadata": {},
   "source": [
    "How many different 'types' are there? Make a new DataFrame for each type"
   ]
  },
  {
   "cell_type": "code",
   "execution_count": null,
   "metadata": {
    "collapsed": true
   },
   "outputs": [],
   "source": []
  },
  {
   "cell_type": "markdown",
   "metadata": {},
   "source": [
    "# Problem Statement\n",
    "\n",
    "These data files contain the four-vectors for $p\\bar{p} \\rightarrow b\\bar{b}$ collisions. We want to see if we can make cuts which will distinguish the two data sets. To do this, we are going to need to define functions which will add transverse momentum, rapidity, and invariant mass to our data tables. We are also going to want to plot the data."
   ]
  },
  {
   "cell_type": "markdown",
   "metadata": {},
   "source": [
    "## Examine the data"
   ]
  },
  {
   "cell_type": "code",
   "execution_count": 41,
   "metadata": {
    "collapsed": false
   },
   "outputs": [
    {
     "data": {
      "text/html": [
       "<div>\n",
       "<style>\n",
       "    .dataframe thead tr:only-child th {\n",
       "        text-align: right;\n",
       "    }\n",
       "\n",
       "    .dataframe thead th {\n",
       "        text-align: left;\n",
       "    }\n",
       "\n",
       "    .dataframe tbody tr th {\n",
       "        vertical-align: top;\n",
       "    }\n",
       "</style>\n",
       "<table border=\"1\" class=\"dataframe\">\n",
       "  <thead>\n",
       "    <tr style=\"text-align: right;\">\n",
       "      <th></th>\n",
       "      <th>e1</th>\n",
       "      <th>px1</th>\n",
       "      <th>py1</th>\n",
       "      <th>pz1</th>\n",
       "      <th>e2</th>\n",
       "      <th>px2</th>\n",
       "      <th>py2</th>\n",
       "      <th>pz2</th>\n",
       "    </tr>\n",
       "  </thead>\n",
       "  <tbody>\n",
       "    <tr>\n",
       "      <th>count</th>\n",
       "      <td>20000.000000</td>\n",
       "      <td>20000.000000</td>\n",
       "      <td>20000.000000</td>\n",
       "      <td>20000.000000</td>\n",
       "      <td>20000.000000</td>\n",
       "      <td>20000.000000</td>\n",
       "      <td>20000.000000</td>\n",
       "      <td>20000.000000</td>\n",
       "    </tr>\n",
       "    <tr>\n",
       "      <th>mean</th>\n",
       "      <td>383.831873</td>\n",
       "      <td>-0.206923</td>\n",
       "      <td>-0.035400</td>\n",
       "      <td>1.902207</td>\n",
       "      <td>228.134015</td>\n",
       "      <td>0.206923</td>\n",
       "      <td>0.035400</td>\n",
       "      <td>3.452655</td>\n",
       "    </tr>\n",
       "    <tr>\n",
       "      <th>std</th>\n",
       "      <td>532.591710</td>\n",
       "      <td>24.894383</td>\n",
       "      <td>24.755621</td>\n",
       "      <td>655.537854</td>\n",
       "      <td>347.885630</td>\n",
       "      <td>24.894383</td>\n",
       "      <td>24.755621</td>\n",
       "      <td>414.494289</td>\n",
       "    </tr>\n",
       "    <tr>\n",
       "      <th>min</th>\n",
       "      <td>4.866729</td>\n",
       "      <td>-55.904380</td>\n",
       "      <td>-56.460030</td>\n",
       "      <td>-4487.322713</td>\n",
       "      <td>5.123639</td>\n",
       "      <td>-58.142615</td>\n",
       "      <td>-56.217051</td>\n",
       "      <td>-4367.182120</td>\n",
       "    </tr>\n",
       "    <tr>\n",
       "      <th>25%</th>\n",
       "      <td>56.062120</td>\n",
       "      <td>-20.985931</td>\n",
       "      <td>-20.527712</td>\n",
       "      <td>-144.321602</td>\n",
       "      <td>46.457782</td>\n",
       "      <td>-20.338122</td>\n",
       "      <td>-20.555307</td>\n",
       "      <td>-88.673426</td>\n",
       "    </tr>\n",
       "    <tr>\n",
       "      <th>50%</th>\n",
       "      <td>149.870575</td>\n",
       "      <td>-0.342007</td>\n",
       "      <td>-0.235733</td>\n",
       "      <td>-0.955680</td>\n",
       "      <td>95.713317</td>\n",
       "      <td>0.342007</td>\n",
       "      <td>0.235733</td>\n",
       "      <td>0.650076</td>\n",
       "    </tr>\n",
       "    <tr>\n",
       "      <th>75%</th>\n",
       "      <td>492.355421</td>\n",
       "      <td>20.338122</td>\n",
       "      <td>20.555307</td>\n",
       "      <td>145.434683</td>\n",
       "      <td>250.499006</td>\n",
       "      <td>20.985931</td>\n",
       "      <td>20.527712</td>\n",
       "      <td>88.486945</td>\n",
       "    </tr>\n",
       "    <tr>\n",
       "      <th>max</th>\n",
       "      <td>4487.331244</td>\n",
       "      <td>58.142615</td>\n",
       "      <td>56.217051</td>\n",
       "      <td>4361.760256</td>\n",
       "      <td>4367.196821</td>\n",
       "      <td>55.904380</td>\n",
       "      <td>56.460030</td>\n",
       "      <td>3802.989172</td>\n",
       "    </tr>\n",
       "  </tbody>\n",
       "</table>\n",
       "</div>"
      ],
      "text/plain": [
       "                 e1           px1           py1           pz1            e2  \\\n",
       "count  20000.000000  20000.000000  20000.000000  20000.000000  20000.000000   \n",
       "mean     383.831873     -0.206923     -0.035400      1.902207    228.134015   \n",
       "std      532.591710     24.894383     24.755621    655.537854    347.885630   \n",
       "min        4.866729    -55.904380    -56.460030  -4487.322713      5.123639   \n",
       "25%       56.062120    -20.985931    -20.527712   -144.321602     46.457782   \n",
       "50%      149.870575     -0.342007     -0.235733     -0.955680     95.713317   \n",
       "75%      492.355421     20.338122     20.555307    145.434683    250.499006   \n",
       "max     4487.331244     58.142615     56.217051   4361.760256   4367.196821   \n",
       "\n",
       "                px2           py2           pz2  \n",
       "count  20000.000000  20000.000000  20000.000000  \n",
       "mean       0.206923      0.035400      3.452655  \n",
       "std       24.894383     24.755621    414.494289  \n",
       "min      -58.142615    -56.217051  -4367.182120  \n",
       "25%      -20.338122    -20.555307    -88.673426  \n",
       "50%        0.342007      0.235733      0.650076  \n",
       "75%       20.985931     20.527712     88.486945  \n",
       "max       55.904380     56.460030   3802.989172  "
      ]
     },
     "execution_count": 41,
     "metadata": {},
     "output_type": "execute_result"
    }
   ],
   "source": [
    "DF1.describe()"
   ]
  },
  {
   "cell_type": "code",
   "execution_count": 42,
   "metadata": {
    "collapsed": false
   },
   "outputs": [
    {
     "data": {
      "text/html": [
       "<div>\n",
       "<style>\n",
       "    .dataframe thead tr:only-child th {\n",
       "        text-align: right;\n",
       "    }\n",
       "\n",
       "    .dataframe thead th {\n",
       "        text-align: left;\n",
       "    }\n",
       "\n",
       "    .dataframe tbody tr th {\n",
       "        vertical-align: top;\n",
       "    }\n",
       "</style>\n",
       "<table border=\"1\" class=\"dataframe\">\n",
       "  <thead>\n",
       "    <tr style=\"text-align: right;\">\n",
       "      <th></th>\n",
       "      <th>e1</th>\n",
       "      <th>px1</th>\n",
       "      <th>py1</th>\n",
       "      <th>pz1</th>\n",
       "      <th>e2</th>\n",
       "      <th>px2</th>\n",
       "      <th>py2</th>\n",
       "      <th>pz2</th>\n",
       "    </tr>\n",
       "  </thead>\n",
       "  <tbody>\n",
       "    <tr>\n",
       "      <th>count</th>\n",
       "      <td>20000.000000</td>\n",
       "      <td>20000.000000</td>\n",
       "      <td>20000.000000</td>\n",
       "      <td>20000.000000</td>\n",
       "      <td>20000.000000</td>\n",
       "      <td>20000.000000</td>\n",
       "      <td>20000.000000</td>\n",
       "      <td>20000.000000</td>\n",
       "    </tr>\n",
       "    <tr>\n",
       "      <th>mean</th>\n",
       "      <td>320.648543</td>\n",
       "      <td>-0.145971</td>\n",
       "      <td>-0.101480</td>\n",
       "      <td>-1.659961</td>\n",
       "      <td>320.471414</td>\n",
       "      <td>0.145971</td>\n",
       "      <td>0.101480</td>\n",
       "      <td>4.539662</td>\n",
       "    </tr>\n",
       "    <tr>\n",
       "      <th>std</th>\n",
       "      <td>484.657092</td>\n",
       "      <td>21.384376</td>\n",
       "      <td>21.400352</td>\n",
       "      <td>580.321447</td>\n",
       "      <td>482.569933</td>\n",
       "      <td>21.384376</td>\n",
       "      <td>21.400352</td>\n",
       "      <td>578.465905</td>\n",
       "    </tr>\n",
       "    <tr>\n",
       "      <th>min</th>\n",
       "      <td>4.909618</td>\n",
       "      <td>-58.167579</td>\n",
       "      <td>-58.702579</td>\n",
       "      <td>-4295.261719</td>\n",
       "      <td>5.052858</td>\n",
       "      <td>-58.953167</td>\n",
       "      <td>-58.333777</td>\n",
       "      <td>-4247.772589</td>\n",
       "    </tr>\n",
       "    <tr>\n",
       "      <th>25%</th>\n",
       "      <td>45.253404</td>\n",
       "      <td>-17.172721</td>\n",
       "      <td>-17.081240</td>\n",
       "      <td>-113.152260</td>\n",
       "      <td>45.889009</td>\n",
       "      <td>-16.796131</td>\n",
       "      <td>-16.699227</td>\n",
       "      <td>-112.305723</td>\n",
       "    </tr>\n",
       "    <tr>\n",
       "      <th>50%</th>\n",
       "      <td>116.585132</td>\n",
       "      <td>-0.216473</td>\n",
       "      <td>-0.206499</td>\n",
       "      <td>-0.134346</td>\n",
       "      <td>117.116937</td>\n",
       "      <td>0.216473</td>\n",
       "      <td>0.206499</td>\n",
       "      <td>-0.306893</td>\n",
       "    </tr>\n",
       "    <tr>\n",
       "      <th>75%</th>\n",
       "      <td>379.435399</td>\n",
       "      <td>16.796131</td>\n",
       "      <td>16.699227</td>\n",
       "      <td>111.391886</td>\n",
       "      <td>375.664524</td>\n",
       "      <td>17.172721</td>\n",
       "      <td>17.081240</td>\n",
       "      <td>112.908662</td>\n",
       "    </tr>\n",
       "    <tr>\n",
       "      <th>max</th>\n",
       "      <td>4295.354018</td>\n",
       "      <td>58.953167</td>\n",
       "      <td>58.333777</td>\n",
       "      <td>4204.867092</td>\n",
       "      <td>4247.796029</td>\n",
       "      <td>58.167579</td>\n",
       "      <td>58.702579</td>\n",
       "      <td>4013.222897</td>\n",
       "    </tr>\n",
       "  </tbody>\n",
       "</table>\n",
       "</div>"
      ],
      "text/plain": [
       "                 e1           px1           py1           pz1            e2  \\\n",
       "count  20000.000000  20000.000000  20000.000000  20000.000000  20000.000000   \n",
       "mean     320.648543     -0.145971     -0.101480     -1.659961    320.471414   \n",
       "std      484.657092     21.384376     21.400352    580.321447    482.569933   \n",
       "min        4.909618    -58.167579    -58.702579  -4295.261719      5.052858   \n",
       "25%       45.253404    -17.172721    -17.081240   -113.152260     45.889009   \n",
       "50%      116.585132     -0.216473     -0.206499     -0.134346    117.116937   \n",
       "75%      379.435399     16.796131     16.699227    111.391886    375.664524   \n",
       "max     4295.354018     58.953167     58.333777   4204.867092   4247.796029   \n",
       "\n",
       "                px2           py2           pz2  \n",
       "count  20000.000000  20000.000000  20000.000000  \n",
       "mean       0.145971      0.101480      4.539662  \n",
       "std       21.384376     21.400352    578.465905  \n",
       "min      -58.953167    -58.333777  -4247.772589  \n",
       "25%      -16.796131    -16.699227   -112.305723  \n",
       "50%        0.216473      0.206499     -0.306893  \n",
       "75%       17.172721     17.081240    112.908662  \n",
       "max       58.167579     58.702579   4013.222897  "
      ]
     },
     "execution_count": 42,
     "metadata": {},
     "output_type": "execute_result"
    }
   ],
   "source": [
    "DF2.describe()"
   ]
  },
  {
   "cell_type": "markdown",
   "metadata": {},
   "source": [
    "## Write functions\n",
    "\n",
    "### Transverse Momentum"
   ]
  },
  {
   "cell_type": "code",
   "execution_count": 43,
   "metadata": {
    "collapsed": true
   },
   "outputs": [],
   "source": [
    "# write a function that takes in an object (which is a pandas Data Frame with 4 columns) \n",
    "# and outputs the transverse momentum\n",
    "def make_pt(four_vector):\n",
    "    '''four_vector is a DataFrame with columns in the shape of ['e', 'px', 'py', 'pz']\n",
    "    the output should be a column matrix.    \n",
    "    '''\n",
    "    fv = four_vector.as_matrix()\n",
    "    e = fv[:, 0]\n",
    "    px = fv[:, 1]\n",
    "    py = fv[:, 2]\n",
    "    pz = fv[:, 3]\n",
    "    \n",
    "    pt = np.sqrt(px**2 + py**2)\n",
    "    \n",
    "    return pt"
   ]
  },
  {
   "cell_type": "markdown",
   "metadata": {},
   "source": [
    "#### Add to DataFrame\n",
    "\n",
    "Add a $p_T$ column to each of the data frames for the $b$ and $\\bar{b}$"
   ]
  },
  {
   "cell_type": "code",
   "execution_count": 45,
   "metadata": {
    "collapsed": true
   },
   "outputs": [],
   "source": [
    "for df in DF1, DF2:\n",
    "    df['pt1'] = make_pt(df[['e1', 'px1', 'py1', 'pz1']])\n",
    "    df['pt2'] = make_pt(df[['e2', 'px2', 'py2', 'pz2']])"
   ]
  },
  {
   "cell_type": "markdown",
   "metadata": {},
   "source": [
    "Check to see if it worked"
   ]
  },
  {
   "cell_type": "code",
   "execution_count": 47,
   "metadata": {
    "collapsed": false
   },
   "outputs": [
    {
     "data": {
      "text/html": [
       "<div>\n",
       "<style>\n",
       "    .dataframe thead tr:only-child th {\n",
       "        text-align: right;\n",
       "    }\n",
       "\n",
       "    .dataframe thead th {\n",
       "        text-align: left;\n",
       "    }\n",
       "\n",
       "    .dataframe tbody tr th {\n",
       "        vertical-align: top;\n",
       "    }\n",
       "</style>\n",
       "<table border=\"1\" class=\"dataframe\">\n",
       "  <thead>\n",
       "    <tr style=\"text-align: right;\">\n",
       "      <th></th>\n",
       "      <th>e1</th>\n",
       "      <th>px1</th>\n",
       "      <th>py1</th>\n",
       "      <th>pz1</th>\n",
       "      <th>e2</th>\n",
       "      <th>px2</th>\n",
       "      <th>py2</th>\n",
       "      <th>pz2</th>\n",
       "      <th>pt1</th>\n",
       "      <th>pt2</th>\n",
       "    </tr>\n",
       "  </thead>\n",
       "  <tbody>\n",
       "    <tr>\n",
       "      <th>2760</th>\n",
       "      <td>526.971166</td>\n",
       "      <td>-38.572097</td>\n",
       "      <td>14.056320</td>\n",
       "      <td>525.348582</td>\n",
       "      <td>220.939165</td>\n",
       "      <td>38.572097</td>\n",
       "      <td>-14.056320</td>\n",
       "      <td>217.040637</td>\n",
       "      <td>41.053463</td>\n",
       "      <td>41.053463</td>\n",
       "    </tr>\n",
       "    <tr>\n",
       "      <th>12214</th>\n",
       "      <td>236.266853</td>\n",
       "      <td>28.993435</td>\n",
       "      <td>20.723233</td>\n",
       "      <td>233.516304</td>\n",
       "      <td>1048.507835</td>\n",
       "      <td>-28.993435</td>\n",
       "      <td>-20.723233</td>\n",
       "      <td>1047.891463</td>\n",
       "      <td>35.638065</td>\n",
       "      <td>35.638065</td>\n",
       "    </tr>\n",
       "    <tr>\n",
       "      <th>1571</th>\n",
       "      <td>341.243270</td>\n",
       "      <td>-0.644656</td>\n",
       "      <td>39.901757</td>\n",
       "      <td>338.869168</td>\n",
       "      <td>1003.281471</td>\n",
       "      <td>0.644656</td>\n",
       "      <td>-39.901757</td>\n",
       "      <td>1002.476460</td>\n",
       "      <td>39.906964</td>\n",
       "      <td>39.906964</td>\n",
       "    </tr>\n",
       "    <tr>\n",
       "      <th>2882</th>\n",
       "      <td>441.961097</td>\n",
       "      <td>43.124939</td>\n",
       "      <td>-14.091200</td>\n",
       "      <td>439.601182</td>\n",
       "      <td>595.977090</td>\n",
       "      <td>-43.124939</td>\n",
       "      <td>14.091200</td>\n",
       "      <td>594.229148</td>\n",
       "      <td>45.368737</td>\n",
       "      <td>45.368737</td>\n",
       "    </tr>\n",
       "    <tr>\n",
       "      <th>7912</th>\n",
       "      <td>30.876671</td>\n",
       "      <td>9.935279</td>\n",
       "      <td>-25.194558</td>\n",
       "      <td>-14.064256</td>\n",
       "      <td>76.643610</td>\n",
       "      <td>-9.935279</td>\n",
       "      <td>25.194558</td>\n",
       "      <td>71.544933</td>\n",
       "      <td>27.082753</td>\n",
       "      <td>27.082753</td>\n",
       "    </tr>\n",
       "    <tr>\n",
       "      <th>17693</th>\n",
       "      <td>603.587327</td>\n",
       "      <td>-26.255040</td>\n",
       "      <td>-24.631322</td>\n",
       "      <td>602.494434</td>\n",
       "      <td>161.590790</td>\n",
       "      <td>26.255040</td>\n",
       "      <td>24.631322</td>\n",
       "      <td>157.459405</td>\n",
       "      <td>36.000405</td>\n",
       "      <td>36.000405</td>\n",
       "    </tr>\n",
       "    <tr>\n",
       "      <th>16135</th>\n",
       "      <td>37.762098</td>\n",
       "      <td>34.427684</td>\n",
       "      <td>-5.641051</td>\n",
       "      <td>-13.667450</td>\n",
       "      <td>63.953807</td>\n",
       "      <td>-34.427684</td>\n",
       "      <td>5.641051</td>\n",
       "      <td>53.393937</td>\n",
       "      <td>34.886772</td>\n",
       "      <td>34.886772</td>\n",
       "    </tr>\n",
       "    <tr>\n",
       "      <th>18865</th>\n",
       "      <td>68.757420</td>\n",
       "      <td>-37.911840</td>\n",
       "      <td>14.511804</td>\n",
       "      <td>55.295504</td>\n",
       "      <td>156.397416</td>\n",
       "      <td>37.911840</td>\n",
       "      <td>-14.511804</td>\n",
       "      <td>150.964107</td>\n",
       "      <td>40.594335</td>\n",
       "      <td>40.594335</td>\n",
       "    </tr>\n",
       "    <tr>\n",
       "      <th>2226</th>\n",
       "      <td>1401.174324</td>\n",
       "      <td>-12.972081</td>\n",
       "      <td>-4.295441</td>\n",
       "      <td>-1401.099807</td>\n",
       "      <td>38.384133</td>\n",
       "      <td>12.972081</td>\n",
       "      <td>4.295441</td>\n",
       "      <td>-35.560174</td>\n",
       "      <td>13.664761</td>\n",
       "      <td>13.664761</td>\n",
       "    </tr>\n",
       "    <tr>\n",
       "      <th>15408</th>\n",
       "      <td>44.180051</td>\n",
       "      <td>34.577897</td>\n",
       "      <td>-20.030109</td>\n",
       "      <td>-18.246936</td>\n",
       "      <td>40.933737</td>\n",
       "      <td>-34.577897</td>\n",
       "      <td>20.030109</td>\n",
       "      <td>7.526260</td>\n",
       "      <td>39.960433</td>\n",
       "      <td>39.960433</td>\n",
       "    </tr>\n",
       "  </tbody>\n",
       "</table>\n",
       "</div>"
      ],
      "text/plain": [
       "                e1        px1        py1          pz1           e2        px2  \\\n",
       "2760    526.971166 -38.572097  14.056320   525.348582   220.939165  38.572097   \n",
       "12214   236.266853  28.993435  20.723233   233.516304  1048.507835 -28.993435   \n",
       "1571    341.243270  -0.644656  39.901757   338.869168  1003.281471   0.644656   \n",
       "2882    441.961097  43.124939 -14.091200   439.601182   595.977090 -43.124939   \n",
       "7912     30.876671   9.935279 -25.194558   -14.064256    76.643610  -9.935279   \n",
       "17693   603.587327 -26.255040 -24.631322   602.494434   161.590790  26.255040   \n",
       "16135    37.762098  34.427684  -5.641051   -13.667450    63.953807 -34.427684   \n",
       "18865    68.757420 -37.911840  14.511804    55.295504   156.397416  37.911840   \n",
       "2226   1401.174324 -12.972081  -4.295441 -1401.099807    38.384133  12.972081   \n",
       "15408    44.180051  34.577897 -20.030109   -18.246936    40.933737 -34.577897   \n",
       "\n",
       "             py2          pz2        pt1        pt2  \n",
       "2760  -14.056320   217.040637  41.053463  41.053463  \n",
       "12214 -20.723233  1047.891463  35.638065  35.638065  \n",
       "1571  -39.901757  1002.476460  39.906964  39.906964  \n",
       "2882   14.091200   594.229148  45.368737  45.368737  \n",
       "7912   25.194558    71.544933  27.082753  27.082753  \n",
       "17693  24.631322   157.459405  36.000405  36.000405  \n",
       "16135   5.641051    53.393937  34.886772  34.886772  \n",
       "18865 -14.511804   150.964107  40.594335  40.594335  \n",
       "2226    4.295441   -35.560174  13.664761  13.664761  \n",
       "15408  20.030109     7.526260  39.960433  39.960433  "
      ]
     },
     "execution_count": 47,
     "metadata": {},
     "output_type": "execute_result"
    }
   ],
   "source": [
    "DF1.sample(10)"
   ]
  },
  {
   "cell_type": "markdown",
   "metadata": {},
   "source": [
    "### Rapidity"
   ]
  },
  {
   "cell_type": "markdown",
   "metadata": {},
   "source": [
    "Now, let's do the same process, but for the rapidity of the particle. We will define rapidity as\n",
    "\n",
    "\\begin{equation}\n",
    "y  = \\frac{1}{2} \\ln \\left(\\frac{E + p_z}{E - p_z} \\right) \\,.\n",
    "\\end{equation}\n",
    "As we know, rapidity is useful because differences in rapidity, $\\Delta y$ are invariant under longitudinal boosts."
   ]
  },
  {
   "cell_type": "code",
   "execution_count": 50,
   "metadata": {
    "collapsed": true
   },
   "outputs": [],
   "source": [
    "# write a function that takes in an object (which is a pandas Data Frame with 4 columns) \n",
    "# and outputs the rapidity\n",
    "def make_rapidity(four_vector):\n",
    "    '''four_vector is a DataFrame with columns in the shape of ['e', 'px', 'py', 'pz']\n",
    "    the output should be a column matrix.    \n",
    "    '''\n",
    "    fv = four_vector.as_matrix()\n",
    "    e = fv[:, 0]\n",
    "    px = fv[:, 1]\n",
    "    py = fv[:, 2]\n",
    "    pz = fv[:, 3]\n",
    "    \n",
    "    rap = 0.5 * np.log((e + pz) / (e - pz))\n",
    "    \n",
    "    return rap"
   ]
  },
  {
   "cell_type": "code",
   "execution_count": 49,
   "metadata": {
    "collapsed": false
   },
   "outputs": [
    {
     "data": {
      "text/plain": [
       "1.0"
      ]
     },
     "execution_count": 49,
     "metadata": {},
     "output_type": "execute_result"
    }
   ],
   "source": [
    "np.log(np.e)"
   ]
  },
  {
   "cell_type": "markdown",
   "metadata": {},
   "source": [
    "#### Add to DataFrame"
   ]
  },
  {
   "cell_type": "code",
   "execution_count": 51,
   "metadata": {
    "collapsed": true
   },
   "outputs": [],
   "source": [
    "for df in DF1, DF2:\n",
    "    df['y1'] = make_rapidity(df[['e1', 'px1', 'py1', 'pz1']])\n",
    "    df['y2'] = make_rapidity(df[['e2', 'px2', 'py2', 'pz2']])"
   ]
  },
  {
   "cell_type": "markdown",
   "metadata": {},
   "source": [
    "Check that it worked"
   ]
  },
  {
   "cell_type": "code",
   "execution_count": 53,
   "metadata": {
    "collapsed": false
   },
   "outputs": [
    {
     "data": {
      "text/html": [
       "<div>\n",
       "<style>\n",
       "    .dataframe thead tr:only-child th {\n",
       "        text-align: right;\n",
       "    }\n",
       "\n",
       "    .dataframe thead th {\n",
       "        text-align: left;\n",
       "    }\n",
       "\n",
       "    .dataframe tbody tr th {\n",
       "        vertical-align: top;\n",
       "    }\n",
       "</style>\n",
       "<table border=\"1\" class=\"dataframe\">\n",
       "  <thead>\n",
       "    <tr style=\"text-align: right;\">\n",
       "      <th></th>\n",
       "      <th>e1</th>\n",
       "      <th>px1</th>\n",
       "      <th>py1</th>\n",
       "      <th>pz1</th>\n",
       "      <th>e2</th>\n",
       "      <th>px2</th>\n",
       "      <th>py2</th>\n",
       "      <th>pz2</th>\n",
       "      <th>pt1</th>\n",
       "      <th>pt2</th>\n",
       "      <th>y1</th>\n",
       "      <th>y2</th>\n",
       "    </tr>\n",
       "  </thead>\n",
       "  <tbody>\n",
       "    <tr>\n",
       "      <th>0</th>\n",
       "      <td>884.805200</td>\n",
       "      <td>31.188352</td>\n",
       "      <td>8.347662</td>\n",
       "      <td>884.203458</td>\n",
       "      <td>419.014867</td>\n",
       "      <td>-31.188352</td>\n",
       "      <td>-8.347662</td>\n",
       "      <td>417.742710</td>\n",
       "      <td>32.286170</td>\n",
       "      <td>32.286170</td>\n",
       "      <td>3.993051</td>\n",
       "      <td>3.244410</td>\n",
       "    </tr>\n",
       "    <tr>\n",
       "      <th>1</th>\n",
       "      <td>432.257221</td>\n",
       "      <td>-3.065846</td>\n",
       "      <td>-20.037100</td>\n",
       "      <td>431.756101</td>\n",
       "      <td>48.990128</td>\n",
       "      <td>3.065846</td>\n",
       "      <td>20.037100</td>\n",
       "      <td>44.351526</td>\n",
       "      <td>20.270293</td>\n",
       "      <td>20.270293</td>\n",
       "      <td>3.726248</td>\n",
       "      <td>1.500927</td>\n",
       "    </tr>\n",
       "    <tr>\n",
       "      <th>2</th>\n",
       "      <td>29.378031</td>\n",
       "      <td>23.089512</td>\n",
       "      <td>-17.516893</td>\n",
       "      <td>1.005776</td>\n",
       "      <td>38.125209</td>\n",
       "      <td>-23.089512</td>\n",
       "      <td>17.516893</td>\n",
       "      <td>-24.320248</td>\n",
       "      <td>28.982186</td>\n",
       "      <td>28.982186</td>\n",
       "      <td>0.034249</td>\n",
       "      <td>-0.754633</td>\n",
       "    </tr>\n",
       "    <tr>\n",
       "      <th>3</th>\n",
       "      <td>50.486271</td>\n",
       "      <td>34.269062</td>\n",
       "      <td>-3.224762</td>\n",
       "      <td>-36.633399</td>\n",
       "      <td>44.585954</td>\n",
       "      <td>-34.269062</td>\n",
       "      <td>3.224762</td>\n",
       "      <td>27.947265</td>\n",
       "      <td>34.420454</td>\n",
       "      <td>34.420454</td>\n",
       "      <td>-0.919395</td>\n",
       "      <td>0.736157</td>\n",
       "    </tr>\n",
       "    <tr>\n",
       "      <th>4</th>\n",
       "      <td>235.337888</td>\n",
       "      <td>34.836681</td>\n",
       "      <td>27.250223</td>\n",
       "      <td>231.096652</td>\n",
       "      <td>188.049015</td>\n",
       "      <td>-34.836681</td>\n",
       "      <td>-27.250223</td>\n",
       "      <td>182.713363</td>\n",
       "      <td>44.228599</td>\n",
       "      <td>44.228599</td>\n",
       "      <td>2.350131</td>\n",
       "      <td>2.120575</td>\n",
       "    </tr>\n",
       "  </tbody>\n",
       "</table>\n",
       "</div>"
      ],
      "text/plain": [
       "           e1        px1        py1         pz1          e2        px2  \\\n",
       "0  884.805200  31.188352   8.347662  884.203458  419.014867 -31.188352   \n",
       "1  432.257221  -3.065846 -20.037100  431.756101   48.990128   3.065846   \n",
       "2   29.378031  23.089512 -17.516893    1.005776   38.125209 -23.089512   \n",
       "3   50.486271  34.269062  -3.224762  -36.633399   44.585954 -34.269062   \n",
       "4  235.337888  34.836681  27.250223  231.096652  188.049015 -34.836681   \n",
       "\n",
       "         py2         pz2        pt1        pt2        y1        y2  \n",
       "0  -8.347662  417.742710  32.286170  32.286170  3.993051  3.244410  \n",
       "1  20.037100   44.351526  20.270293  20.270293  3.726248  1.500927  \n",
       "2  17.516893  -24.320248  28.982186  28.982186  0.034249 -0.754633  \n",
       "3   3.224762   27.947265  34.420454  34.420454 -0.919395  0.736157  \n",
       "4 -27.250223  182.713363  44.228599  44.228599  2.350131  2.120575  "
      ]
     },
     "execution_count": 53,
     "metadata": {},
     "output_type": "execute_result"
    }
   ],
   "source": [
    "DF2.head(5)"
   ]
  },
  {
   "cell_type": "markdown",
   "metadata": {},
   "source": [
    "Did Madgraph impose any restrictions on the rapidity? Find the minimum and maximum rapidity in each sample for both the $b$ and $\\bar{b}$."
   ]
  },
  {
   "cell_type": "code",
   "execution_count": 55,
   "metadata": {
    "collapsed": false
   },
   "outputs": [
    {
     "data": {
      "text/html": [
       "<div>\n",
       "<style>\n",
       "    .dataframe thead tr:only-child th {\n",
       "        text-align: right;\n",
       "    }\n",
       "\n",
       "    .dataframe thead th {\n",
       "        text-align: left;\n",
       "    }\n",
       "\n",
       "    .dataframe tbody tr th {\n",
       "        vertical-align: top;\n",
       "    }\n",
       "</style>\n",
       "<table border=\"1\" class=\"dataframe\">\n",
       "  <thead>\n",
       "    <tr style=\"text-align: right;\">\n",
       "      <th></th>\n",
       "      <th>y1</th>\n",
       "      <th>y2</th>\n",
       "    </tr>\n",
       "  </thead>\n",
       "  <tbody>\n",
       "    <tr>\n",
       "      <th>count</th>\n",
       "      <td>20000.000000</td>\n",
       "      <td>20000.000000</td>\n",
       "    </tr>\n",
       "    <tr>\n",
       "      <th>mean</th>\n",
       "      <td>-0.008315</td>\n",
       "      <td>0.006878</td>\n",
       "    </tr>\n",
       "    <tr>\n",
       "      <th>std</th>\n",
       "      <td>2.642076</td>\n",
       "      <td>2.640931</td>\n",
       "    </tr>\n",
       "    <tr>\n",
       "      <th>min</th>\n",
       "      <td>-6.963738</td>\n",
       "      <td>-7.369071</td>\n",
       "    </tr>\n",
       "    <tr>\n",
       "      <th>25%</th>\n",
       "      <td>-2.123454</td>\n",
       "      <td>-2.113931</td>\n",
       "    </tr>\n",
       "    <tr>\n",
       "      <th>50%</th>\n",
       "      <td>-0.005164</td>\n",
       "      <td>-0.013727</td>\n",
       "    </tr>\n",
       "    <tr>\n",
       "      <th>75%</th>\n",
       "      <td>2.107943</td>\n",
       "      <td>2.122989</td>\n",
       "    </tr>\n",
       "    <tr>\n",
       "      <th>max</th>\n",
       "      <td>6.784410</td>\n",
       "      <td>7.024007</td>\n",
       "    </tr>\n",
       "  </tbody>\n",
       "</table>\n",
       "</div>"
      ],
      "text/plain": [
       "                 y1            y2\n",
       "count  20000.000000  20000.000000\n",
       "mean      -0.008315      0.006878\n",
       "std        2.642076      2.640931\n",
       "min       -6.963738     -7.369071\n",
       "25%       -2.123454     -2.113931\n",
       "50%       -0.005164     -0.013727\n",
       "75%        2.107943      2.122989\n",
       "max        6.784410      7.024007"
      ]
     },
     "execution_count": 55,
     "metadata": {},
     "output_type": "execute_result"
    }
   ],
   "source": [
    "DF2[['y1', 'y2']].describe()"
   ]
  },
  {
   "cell_type": "code",
   "execution_count": 56,
   "metadata": {
    "collapsed": false
   },
   "outputs": [
    {
     "data": {
      "text/html": [
       "<div>\n",
       "<style>\n",
       "    .dataframe thead tr:only-child th {\n",
       "        text-align: right;\n",
       "    }\n",
       "\n",
       "    .dataframe thead th {\n",
       "        text-align: left;\n",
       "    }\n",
       "\n",
       "    .dataframe tbody tr th {\n",
       "        vertical-align: top;\n",
       "    }\n",
       "</style>\n",
       "<table border=\"1\" class=\"dataframe\">\n",
       "  <thead>\n",
       "    <tr style=\"text-align: right;\">\n",
       "      <th></th>\n",
       "      <th>y1</th>\n",
       "      <th>y2</th>\n",
       "    </tr>\n",
       "  </thead>\n",
       "  <tbody>\n",
       "    <tr>\n",
       "      <th>count</th>\n",
       "      <td>20000.000000</td>\n",
       "      <td>20000.000000</td>\n",
       "    </tr>\n",
       "    <tr>\n",
       "      <th>mean</th>\n",
       "      <td>-0.006796</td>\n",
       "      <td>0.010534</td>\n",
       "    </tr>\n",
       "    <tr>\n",
       "      <th>std</th>\n",
       "      <td>2.711301</td>\n",
       "      <td>2.202193</td>\n",
       "    </tr>\n",
       "    <tr>\n",
       "      <th>min</th>\n",
       "      <td>-6.982936</td>\n",
       "      <td>-6.647411</td>\n",
       "    </tr>\n",
       "    <tr>\n",
       "      <th>25%</th>\n",
       "      <td>-2.153611</td>\n",
       "      <td>-1.732666</td>\n",
       "    </tr>\n",
       "    <tr>\n",
       "      <th>50%</th>\n",
       "      <td>-0.030666</td>\n",
       "      <td>0.023227</td>\n",
       "    </tr>\n",
       "    <tr>\n",
       "      <th>75%</th>\n",
       "      <td>2.171802</td>\n",
       "      <td>1.742698</td>\n",
       "    </tr>\n",
       "    <tr>\n",
       "      <th>max</th>\n",
       "      <td>7.065231</td>\n",
       "      <td>6.684530</td>\n",
       "    </tr>\n",
       "  </tbody>\n",
       "</table>\n",
       "</div>"
      ],
      "text/plain": [
       "                 y1            y2\n",
       "count  20000.000000  20000.000000\n",
       "mean      -0.006796      0.010534\n",
       "std        2.711301      2.202193\n",
       "min       -6.982936     -6.647411\n",
       "25%       -2.153611     -1.732666\n",
       "50%       -0.030666      0.023227\n",
       "75%        2.171802      1.742698\n",
       "max        7.065231      6.684530"
      ]
     },
     "execution_count": 56,
     "metadata": {},
     "output_type": "execute_result"
    }
   ],
   "source": [
    "DF1[['y1', 'y2']].describe()"
   ]
  },
  {
   "cell_type": "markdown",
   "metadata": {},
   "source": [
    "### Invariant mass\n",
    "The invariant mass is defined as $p^2_4 = e^2 - p_3^2$. What we really want is the invariant mass of the s-channel propagator. Write two functions, one for the invariant mass of one particle, one for the invariant mass of the parent of two daughter particles."
   ]
  },
  {
   "cell_type": "code",
   "execution_count": 60,
   "metadata": {
    "collapsed": true
   },
   "outputs": [],
   "source": [
    "# Invariant mass of one particle\n",
    "def get_minv(four_vector):\n",
    "    fv = four_vector.as_matrix()\n",
    "    e = fv[:, 0]\n",
    "    px = fv[:, 1]\n",
    "    py = fv[:, 2]\n",
    "    pz = fv[:, 3]\n",
    "    \n",
    "#     minv\n",
    "    \n",
    "    pass"
   ]
  },
  {
   "cell_type": "code",
   "execution_count": 72,
   "metadata": {
    "collapsed": true
   },
   "outputs": [],
   "source": [
    "# Invariant mass of two particles\n",
    "def get_minv2(four_vector1, four_vector2):\n",
    "    fv1 = four_vector1.as_matrix()\n",
    "    e1 = fv1[:, 0]\n",
    "    px1 = fv1[:, 1]\n",
    "    py1 = fv1[:, 2]\n",
    "    pz1 = fv1[:, 3]\n",
    "    \n",
    "    fv2 = four_vector2.as_matrix()\n",
    "    e2 = fv2[:, 0]\n",
    "    px2 = fv2[:, 1]\n",
    "    py2 = fv2[:, 2]\n",
    "    pz2 = fv2[:, 3]\n",
    "    \n",
    "    minv2 = (e1 + e2)**2 - (px1 + px2)**2 - (py1 + py2)**2 - (pz1 + pz2)**2\n",
    "    \n",
    "    return np.sqrt(minv2)"
   ]
  },
  {
   "cell_type": "code",
   "execution_count": 73,
   "metadata": {
    "collapsed": false
   },
   "outputs": [],
   "source": [
    "for df in DF1, DF2:\n",
    "    df['minv'] = get_minv2(df[['e1', 'px1', 'py1', 'pz1']],\n",
    "                           df[['e2', 'px2', 'py2', 'pz2']]\n",
    "                          )"
   ]
  },
  {
   "cell_type": "markdown",
   "metadata": {},
   "source": [
    "## Plot the distributions"
   ]
  },
  {
   "cell_type": "markdown",
   "metadata": {},
   "source": [
    "Get a list that has all of the columns in the data frame."
   ]
  },
  {
   "cell_type": "code",
   "execution_count": 78,
   "metadata": {
    "collapsed": false
   },
   "outputs": [
    {
     "name": "stdout",
     "output_type": "stream",
     "text": [
      "e1, px1, py1, pz1, e2, px2, py2, pz2, pt1, pt2, y1, y2, minv\n"
     ]
    }
   ],
   "source": [
    "cols = DF1.columns\n",
    "print ', '.join(cols)"
   ]
  },
  {
   "cell_type": "markdown",
   "metadata": {},
   "source": [
    "Use two for loops to plot histograms of all of the data"
   ]
  },
  {
   "cell_type": "code",
   "execution_count": 79,
   "metadata": {
    "collapsed": false
   },
   "outputs": [
    {
     "data": {
      "image/png": "[encoded data removed]",
      "text/plain": [
       "<matplotlib.figure.Figure at 0x1102a9f10>"
      ]
     },
     "metadata": {},
     "output_type": "display_data"
    },
    {
     "data": {
      "image/png": "[encoded data removed]",
      "text/plain": [
       "<matplotlib.figure.Figure at 0x10e219350>"
      ]
     },
     "metadata": {},
     "output_type": "display_data"
    },
    {
     "data": {
      "image/png": "[encoded data removed]",
      "text/plain": [
       "<matplotlib.figure.Figure at 0x10ed01b10>"
      ]
     },
     "metadata": {},
     "output_type": "display_data"
    },
    {
     "data": {
      "image/png": "[encoded data removed]",
      "text/plain": [
       "<matplotlib.figure.Figure at 0x10f004f90>"
      ]
     },
     "metadata": {},
     "output_type": "display_data"
    },
    {
     "data": {
      "image/png": "[encoded data removed]",
      "text/plain": [
       "<matplotlib.figure.Figure at 0x10f2cedd0>"
      ]
     },
     "metadata": {},
     "output_type": "display_data"
    },
    {
     "data": {
      "image/png": "[encoded data removed]",
      "text/plain": [
       "<matplotlib.figure.Figure at 0x10f403310>"
      ]
     },
     "metadata": {},
     "output_type": "display_data"
    },
    {
     "data": {
      "image/png": "[encoded data removed]",
      "text/plain": [
       "<matplotlib.figure.Figure at 0x10f555610>"
      ]
     },
     "metadata": {},
     "output_type": "display_data"
    },
    {
     "data": {
      "image/png": "[encoded data removed]",
      "text/plain": [
       "<matplotlib.figure.Figure at 0x10f6b9a50>"
      ]
     },
     "metadata": {},
     "output_type": "display_data"
    },
    {
     "data": {
      "image/png": "[encoded data removed]",
      "text/plain": [
       "<matplotlib.figure.Figure at 0x10f808310>"
      ]
     },
     "metadata": {},
     "output_type": "display_data"
    },
    {
     "data": {
      "image/png": "[encoded data removed]",
      "text/plain": [
       "<matplotlib.figure.Figure at 0x10f691590>"
      ]
     },
     "metadata": {},
     "output_type": "display_data"
    },
    {
     "data": {
      "image/png": "[encoded data removed]",
      "text/plain": [
       "<matplotlib.figure.Figure at 0x10f5558d0>"
      ]
     },
     "metadata": {},
     "output_type": "display_data"
    },
    {
     "data": {
      "image/png": "[encoded data removed]",
      "text/plain": [
       "<matplotlib.figure.Figure at 0x10efeff90>"
      ]
     },
     "metadata": {},
     "output_type": "display_data"
    },
    {
     "data": {
      "image/png": "[encoded data removed]",
      "text/plain": [
       "<matplotlib.figure.Figure at 0x110213410>"
      ]
     },
     "metadata": {},
     "output_type": "display_data"
    }
   ],
   "source": [
    "for column in cols:\n",
    "    for df in DF1, DF2:\n",
    "        plt.hist(df[column], histtype='step', bins=50)\n",
    "    plt.xlabel(column)\n",
    "    plt.show()   "
   ]
  },
  {
   "cell_type": "code",
   "execution_count": null,
   "metadata": {
    "collapsed": true
   },
   "outputs": [],
   "source": []
  }
 ],
 "metadata": {
  "anaconda-cloud": {},
  "kernelspec": {
   "display_name": "Python [conda root]",
   "language": "python",
   "name": "conda-root-py"
  },
  "language_info": {
   "codemirror_mode": {
    "name": "ipython",
    "version": 2
   },
   "file_extension": ".py",
   "mimetype": "text/x-python",
   "name": "python",
   "nbconvert_exporter": "python",
   "pygments_lexer": "ipython2",
   "version": "2.7.12"
  },
  "toc": {
   "colors": {
    "hover_highlight": "#DAA520",
    "navigate_num": "#000000",
    "navigate_text": "#333333",
    "running_highlight": "#FF0000",
    "selected_highlight": "#FFD700",
    "sidebar_border": "#EEEEEE",
    "wrapper_background": "#FFFFFF"
   },
   "moveMenuLeft": true,
   "nav_menu": {
    "height": "228px",
    "width": "252px"
   },
   "navigate_menu": true,
   "number_sections": true,
   "sideBar": true,
   "threshold": 4,
   "toc_cell": true,
   "toc_section_display": "block",
   "toc_window_display": true,
   "widenNotebook": false
  }
 },
 "nbformat": 4,
 "nbformat_minor": 1
}
