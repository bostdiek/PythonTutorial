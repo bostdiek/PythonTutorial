{
 "cells": [
  {
   "cell_type": "markdown",
   "metadata": {
    "toc": "true"
   },
   "source": [
    "# Table of Contents\n",
    " <p><div class=\"lev1 toc-item\"><a href=\"#Import-and-load-data\" data-toc-modified-id=\"Import-and-load-data-1\"><span class=\"toc-item-num\">1&nbsp;&nbsp;</span>Import and load data</a></div><div class=\"lev2 toc-item\"><a href=\"#Imports\" data-toc-modified-id=\"Imports-11\"><span class=\"toc-item-num\">1.1&nbsp;&nbsp;</span>Imports</a></div><div class=\"lev2 toc-item\"><a href=\"#Load\" data-toc-modified-id=\"Load-12\"><span class=\"toc-item-num\">1.2&nbsp;&nbsp;</span>Load</a></div><div class=\"lev1 toc-item\"><a href=\"#Problem-Statement\" data-toc-modified-id=\"Problem-Statement-2\"><span class=\"toc-item-num\">2&nbsp;&nbsp;</span>Problem Statement</a></div><div class=\"lev2 toc-item\"><a href=\"#Examine-the-data\" data-toc-modified-id=\"Examine-the-data-21\"><span class=\"toc-item-num\">2.1&nbsp;&nbsp;</span>Examine the data</a></div><div class=\"lev2 toc-item\"><a href=\"#Write-functions\" data-toc-modified-id=\"Write-functions-22\"><span class=\"toc-item-num\">2.2&nbsp;&nbsp;</span>Write functions</a></div><div class=\"lev3 toc-item\"><a href=\"#Transverse-Momentum\" data-toc-modified-id=\"Transverse-Momentum-221\"><span class=\"toc-item-num\">2.2.1&nbsp;&nbsp;</span>Transverse Momentum</a></div><div class=\"lev4 toc-item\"><a href=\"#Add-to-DataFrame\" data-toc-modified-id=\"Add-to-DataFrame-2211\"><span class=\"toc-item-num\">2.2.1.1&nbsp;&nbsp;</span>Add to DataFrame</a></div><div class=\"lev3 toc-item\"><a href=\"#Rapidity\" data-toc-modified-id=\"Rapidity-222\"><span class=\"toc-item-num\">2.2.2&nbsp;&nbsp;</span>Rapidity</a></div><div class=\"lev4 toc-item\"><a href=\"#Add-to-DataFrame\" data-toc-modified-id=\"Add-to-DataFrame-2221\"><span class=\"toc-item-num\">2.2.2.1&nbsp;&nbsp;</span>Add to DataFrame</a></div><div class=\"lev3 toc-item\"><a href=\"#Invariant-mass\" data-toc-modified-id=\"Invariant-mass-223\"><span class=\"toc-item-num\">2.2.3&nbsp;&nbsp;</span>Invariant mass</a></div><div class=\"lev2 toc-item\"><a href=\"#Plot-the-distributions\" data-toc-modified-id=\"Plot-the-distributions-23\"><span class=\"toc-item-num\">2.3&nbsp;&nbsp;</span>Plot the distributions</a></div>"
   ]
  },
  {
   "cell_type": "markdown",
   "metadata": {},
   "source": [
    "# Import and load data"
   ]
  },
  {
   "cell_type": "markdown",
   "metadata": {},
   "source": [
    "## Imports"
   ]
  },
  {
   "cell_type": "code",
   "execution_count": 1,
   "metadata": {
    "collapsed": true
   },
   "outputs": [],
   "source": [
    "%matplotlib inline\n",
    "\n",
    "import pandas as pd\n",
    "import numpy as np\n",
    "\n",
    "import matplotlib.pyplot as plt\n",
    "\n",
    "\n",
    "plt.rcParams.update({'font.family':'cmr10','font.size': 13})\n",
    "plt.rcParams['axes.unicode_minus']=False\n",
    "plt.rcParams['axes.labelsize']=15\n",
    "plt.rcParams['figure.figsize']=(4,4)"
   ]
  },
  {
   "cell_type": "markdown",
   "metadata": {},
   "source": [
    "## Load"
   ]
  },
  {
   "cell_type": "code",
   "execution_count": 2,
   "metadata": {
    "collapsed": true
   },
   "outputs": [],
   "source": [
    "TotalSet = pd.read_csv('../Data/PracticeDataset.dat', index_col=0)"
   ]
  },
  {
   "cell_type": "code",
   "execution_count": 3,
   "metadata": {
    "collapsed": false
   },
   "outputs": [
    {
     "name": "stdout",
     "output_type": "stream",
     "text": [
      "e1, px1, py1, pz1, e2, px2, py2, pz2, type\n"
     ]
    }
   ],
   "source": [
    "print ', '.join(TotalSet.columns)"
   ]
  },
  {
   "cell_type": "markdown",
   "metadata": {},
   "source": [
    "How many different 'types' are there? Make a new DataFrame for each type"
   ]
  },
  {
   "cell_type": "code",
   "execution_count": 4,
   "metadata": {
    "collapsed": false
   },
   "outputs": [
    {
     "data": {
      "text/plain": [
       "0        0\n",
       "1        0\n",
       "2        0\n",
       "3        0\n",
       "4        0\n",
       "5        0\n",
       "6        0\n",
       "7        0\n",
       "8        0\n",
       "9        0\n",
       "10       0\n",
       "11       0\n",
       "12       0\n",
       "13       0\n",
       "14       0\n",
       "15       0\n",
       "16       0\n",
       "17       0\n",
       "18       0\n",
       "19       0\n",
       "20       0\n",
       "21       0\n",
       "22       0\n",
       "23       0\n",
       "24       0\n",
       "25       0\n",
       "26       0\n",
       "27       0\n",
       "28       0\n",
       "29       0\n",
       "        ..\n",
       "19970    1\n",
       "19971    1\n",
       "19972    1\n",
       "19973    1\n",
       "19974    1\n",
       "19975    1\n",
       "19976    1\n",
       "19977    1\n",
       "19978    1\n",
       "19979    1\n",
       "19980    1\n",
       "19981    1\n",
       "19982    1\n",
       "19983    1\n",
       "19984    1\n",
       "19985    1\n",
       "19986    1\n",
       "19987    1\n",
       "19988    1\n",
       "19989    1\n",
       "19990    1\n",
       "19991    1\n",
       "19992    1\n",
       "19993    1\n",
       "19994    1\n",
       "19995    1\n",
       "19996    1\n",
       "19997    1\n",
       "19998    1\n",
       "19999    1\n",
       "Name: type, Length: 40000, dtype: int64"
      ]
     },
     "execution_count": 4,
     "metadata": {},
     "output_type": "execute_result"
    }
   ],
   "source": [
    "TotalSet['type']"
   ]
  },
  {
   "cell_type": "code",
   "execution_count": 23,
   "metadata": {
    "collapsed": true
   },
   "outputs": [],
   "source": [
    "DF1 = TotalSet[TotalSet['type']==0].copy()\n",
    "DF2 = TotalSet[TotalSet['type']==1].copy()"
   ]
  },
  {
   "cell_type": "markdown",
   "metadata": {},
   "source": [
    "# Problem Statement\n",
    "\n",
    "These data files contain the four-vectors for $p\\bar{p} \\rightarrow b\\bar{b}$ collisions. We want to see if we can make cuts which will distinguish the two data sets. To do this, we are going to need to define functions which will add transverse momentum, rapidity, and invariant mass to our data tables. We are also going to want to plot the data."
   ]
  },
  {
   "cell_type": "markdown",
   "metadata": {},
   "source": [
    "## Examine the data"
   ]
  },
  {
   "cell_type": "code",
   "execution_count": 24,
   "metadata": {
    "collapsed": false
   },
   "outputs": [
    {
     "data": {
      "text/html": [
       "<div>\n",
       "<style>\n",
       "    .dataframe thead tr:only-child th {\n",
       "        text-align: right;\n",
       "    }\n",
       "\n",
       "    .dataframe thead th {\n",
       "        text-align: left;\n",
       "    }\n",
       "\n",
       "    .dataframe tbody tr th {\n",
       "        vertical-align: top;\n",
       "    }\n",
       "</style>\n",
       "<table border=\"1\" class=\"dataframe\">\n",
       "  <thead>\n",
       "    <tr style=\"text-align: right;\">\n",
       "      <th></th>\n",
       "      <th>e1</th>\n",
       "      <th>px1</th>\n",
       "      <th>py1</th>\n",
       "      <th>pz1</th>\n",
       "      <th>e2</th>\n",
       "      <th>px2</th>\n",
       "      <th>py2</th>\n",
       "      <th>pz2</th>\n",
       "      <th>type</th>\n",
       "    </tr>\n",
       "  </thead>\n",
       "  <tbody>\n",
       "    <tr>\n",
       "      <th>count</th>\n",
       "      <td>20000.000000</td>\n",
       "      <td>20000.000000</td>\n",
       "      <td>20000.000000</td>\n",
       "      <td>20000.000000</td>\n",
       "      <td>20000.000000</td>\n",
       "      <td>20000.000000</td>\n",
       "      <td>20000.000000</td>\n",
       "      <td>20000.000000</td>\n",
       "      <td>20000.0</td>\n",
       "    </tr>\n",
       "    <tr>\n",
       "      <th>mean</th>\n",
       "      <td>320.648543</td>\n",
       "      <td>-0.145971</td>\n",
       "      <td>-0.101480</td>\n",
       "      <td>-1.659961</td>\n",
       "      <td>320.471414</td>\n",
       "      <td>0.145971</td>\n",
       "      <td>0.101480</td>\n",
       "      <td>4.539662</td>\n",
       "      <td>0.0</td>\n",
       "    </tr>\n",
       "    <tr>\n",
       "      <th>std</th>\n",
       "      <td>484.657092</td>\n",
       "      <td>21.384376</td>\n",
       "      <td>21.400352</td>\n",
       "      <td>580.321447</td>\n",
       "      <td>482.569933</td>\n",
       "      <td>21.384376</td>\n",
       "      <td>21.400352</td>\n",
       "      <td>578.465905</td>\n",
       "      <td>0.0</td>\n",
       "    </tr>\n",
       "    <tr>\n",
       "      <th>min</th>\n",
       "      <td>4.909618</td>\n",
       "      <td>-58.167579</td>\n",
       "      <td>-58.702579</td>\n",
       "      <td>-4295.261719</td>\n",
       "      <td>5.052858</td>\n",
       "      <td>-58.953167</td>\n",
       "      <td>-58.333777</td>\n",
       "      <td>-4247.772589</td>\n",
       "      <td>0.0</td>\n",
       "    </tr>\n",
       "    <tr>\n",
       "      <th>25%</th>\n",
       "      <td>45.253404</td>\n",
       "      <td>-17.172721</td>\n",
       "      <td>-17.081240</td>\n",
       "      <td>-113.152260</td>\n",
       "      <td>45.889009</td>\n",
       "      <td>-16.796131</td>\n",
       "      <td>-16.699227</td>\n",
       "      <td>-112.305723</td>\n",
       "      <td>0.0</td>\n",
       "    </tr>\n",
       "    <tr>\n",
       "      <th>50%</th>\n",
       "      <td>116.585132</td>\n",
       "      <td>-0.216473</td>\n",
       "      <td>-0.206499</td>\n",
       "      <td>-0.134346</td>\n",
       "      <td>117.116937</td>\n",
       "      <td>0.216473</td>\n",
       "      <td>0.206499</td>\n",
       "      <td>-0.306893</td>\n",
       "      <td>0.0</td>\n",
       "    </tr>\n",
       "    <tr>\n",
       "      <th>75%</th>\n",
       "      <td>379.435399</td>\n",
       "      <td>16.796131</td>\n",
       "      <td>16.699227</td>\n",
       "      <td>111.391886</td>\n",
       "      <td>375.664524</td>\n",
       "      <td>17.172721</td>\n",
       "      <td>17.081240</td>\n",
       "      <td>112.908662</td>\n",
       "      <td>0.0</td>\n",
       "    </tr>\n",
       "    <tr>\n",
       "      <th>max</th>\n",
       "      <td>4295.354018</td>\n",
       "      <td>58.953167</td>\n",
       "      <td>58.333777</td>\n",
       "      <td>4204.867092</td>\n",
       "      <td>4247.796029</td>\n",
       "      <td>58.167579</td>\n",
       "      <td>58.702579</td>\n",
       "      <td>4013.222897</td>\n",
       "      <td>0.0</td>\n",
       "    </tr>\n",
       "  </tbody>\n",
       "</table>\n",
       "</div>"
      ],
      "text/plain": [
       "                 e1           px1           py1           pz1            e2  \\\n",
       "count  20000.000000  20000.000000  20000.000000  20000.000000  20000.000000   \n",
       "mean     320.648543     -0.145971     -0.101480     -1.659961    320.471414   \n",
       "std      484.657092     21.384376     21.400352    580.321447    482.569933   \n",
       "min        4.909618    -58.167579    -58.702579  -4295.261719      5.052858   \n",
       "25%       45.253404    -17.172721    -17.081240   -113.152260     45.889009   \n",
       "50%      116.585132     -0.216473     -0.206499     -0.134346    117.116937   \n",
       "75%      379.435399     16.796131     16.699227    111.391886    375.664524   \n",
       "max     4295.354018     58.953167     58.333777   4204.867092   4247.796029   \n",
       "\n",
       "                px2           py2           pz2     type  \n",
       "count  20000.000000  20000.000000  20000.000000  20000.0  \n",
       "mean       0.145971      0.101480      4.539662      0.0  \n",
       "std       21.384376     21.400352    578.465905      0.0  \n",
       "min      -58.953167    -58.333777  -4247.772589      0.0  \n",
       "25%      -16.796131    -16.699227   -112.305723      0.0  \n",
       "50%        0.216473      0.206499     -0.306893      0.0  \n",
       "75%       17.172721     17.081240    112.908662      0.0  \n",
       "max       58.167579     58.702579   4013.222897      0.0  "
      ]
     },
     "execution_count": 24,
     "metadata": {},
     "output_type": "execute_result"
    }
   ],
   "source": [
    "DF1.describe()"
   ]
  },
  {
   "cell_type": "code",
   "execution_count": 25,
   "metadata": {
    "collapsed": false
   },
   "outputs": [
    {
     "data": {
      "text/html": [
       "<div>\n",
       "<style>\n",
       "    .dataframe thead tr:only-child th {\n",
       "        text-align: right;\n",
       "    }\n",
       "\n",
       "    .dataframe thead th {\n",
       "        text-align: left;\n",
       "    }\n",
       "\n",
       "    .dataframe tbody tr th {\n",
       "        vertical-align: top;\n",
       "    }\n",
       "</style>\n",
       "<table border=\"1\" class=\"dataframe\">\n",
       "  <thead>\n",
       "    <tr style=\"text-align: right;\">\n",
       "      <th></th>\n",
       "      <th>e1</th>\n",
       "      <th>px1</th>\n",
       "      <th>py1</th>\n",
       "      <th>pz1</th>\n",
       "      <th>e2</th>\n",
       "      <th>px2</th>\n",
       "      <th>py2</th>\n",
       "      <th>pz2</th>\n",
       "      <th>type</th>\n",
       "    </tr>\n",
       "  </thead>\n",
       "  <tbody>\n",
       "    <tr>\n",
       "      <th>count</th>\n",
       "      <td>20000.000000</td>\n",
       "      <td>20000.000000</td>\n",
       "      <td>20000.000000</td>\n",
       "      <td>20000.000000</td>\n",
       "      <td>20000.000000</td>\n",
       "      <td>20000.000000</td>\n",
       "      <td>20000.000000</td>\n",
       "      <td>20000.000000</td>\n",
       "      <td>20000.0</td>\n",
       "    </tr>\n",
       "    <tr>\n",
       "      <th>mean</th>\n",
       "      <td>383.831873</td>\n",
       "      <td>-0.206923</td>\n",
       "      <td>-0.035400</td>\n",
       "      <td>1.902207</td>\n",
       "      <td>228.134015</td>\n",
       "      <td>0.206923</td>\n",
       "      <td>0.035400</td>\n",
       "      <td>3.452655</td>\n",
       "      <td>1.0</td>\n",
       "    </tr>\n",
       "    <tr>\n",
       "      <th>std</th>\n",
       "      <td>532.591710</td>\n",
       "      <td>24.894383</td>\n",
       "      <td>24.755621</td>\n",
       "      <td>655.537854</td>\n",
       "      <td>347.885630</td>\n",
       "      <td>24.894383</td>\n",
       "      <td>24.755621</td>\n",
       "      <td>414.494289</td>\n",
       "      <td>0.0</td>\n",
       "    </tr>\n",
       "    <tr>\n",
       "      <th>min</th>\n",
       "      <td>4.866729</td>\n",
       "      <td>-55.904380</td>\n",
       "      <td>-56.460030</td>\n",
       "      <td>-4487.322713</td>\n",
       "      <td>5.123639</td>\n",
       "      <td>-58.142615</td>\n",
       "      <td>-56.217051</td>\n",
       "      <td>-4367.182120</td>\n",
       "      <td>1.0</td>\n",
       "    </tr>\n",
       "    <tr>\n",
       "      <th>25%</th>\n",
       "      <td>56.062120</td>\n",
       "      <td>-20.985931</td>\n",
       "      <td>-20.527712</td>\n",
       "      <td>-144.321602</td>\n",
       "      <td>46.457782</td>\n",
       "      <td>-20.338122</td>\n",
       "      <td>-20.555307</td>\n",
       "      <td>-88.673426</td>\n",
       "      <td>1.0</td>\n",
       "    </tr>\n",
       "    <tr>\n",
       "      <th>50%</th>\n",
       "      <td>149.870575</td>\n",
       "      <td>-0.342007</td>\n",
       "      <td>-0.235733</td>\n",
       "      <td>-0.955680</td>\n",
       "      <td>95.713317</td>\n",
       "      <td>0.342007</td>\n",
       "      <td>0.235733</td>\n",
       "      <td>0.650076</td>\n",
       "      <td>1.0</td>\n",
       "    </tr>\n",
       "    <tr>\n",
       "      <th>75%</th>\n",
       "      <td>492.355421</td>\n",
       "      <td>20.338122</td>\n",
       "      <td>20.555307</td>\n",
       "      <td>145.434683</td>\n",
       "      <td>250.499006</td>\n",
       "      <td>20.985931</td>\n",
       "      <td>20.527712</td>\n",
       "      <td>88.486945</td>\n",
       "      <td>1.0</td>\n",
       "    </tr>\n",
       "    <tr>\n",
       "      <th>max</th>\n",
       "      <td>4487.331244</td>\n",
       "      <td>58.142615</td>\n",
       "      <td>56.217051</td>\n",
       "      <td>4361.760256</td>\n",
       "      <td>4367.196821</td>\n",
       "      <td>55.904380</td>\n",
       "      <td>56.460030</td>\n",
       "      <td>3802.989172</td>\n",
       "      <td>1.0</td>\n",
       "    </tr>\n",
       "  </tbody>\n",
       "</table>\n",
       "</div>"
      ],
      "text/plain": [
       "                 e1           px1           py1           pz1            e2  \\\n",
       "count  20000.000000  20000.000000  20000.000000  20000.000000  20000.000000   \n",
       "mean     383.831873     -0.206923     -0.035400      1.902207    228.134015   \n",
       "std      532.591710     24.894383     24.755621    655.537854    347.885630   \n",
       "min        4.866729    -55.904380    -56.460030  -4487.322713      5.123639   \n",
       "25%       56.062120    -20.985931    -20.527712   -144.321602     46.457782   \n",
       "50%      149.870575     -0.342007     -0.235733     -0.955680     95.713317   \n",
       "75%      492.355421     20.338122     20.555307    145.434683    250.499006   \n",
       "max     4487.331244     58.142615     56.217051   4361.760256   4367.196821   \n",
       "\n",
       "                px2           py2           pz2     type  \n",
       "count  20000.000000  20000.000000  20000.000000  20000.0  \n",
       "mean       0.206923      0.035400      3.452655      1.0  \n",
       "std       24.894383     24.755621    414.494289      0.0  \n",
       "min      -58.142615    -56.217051  -4367.182120      1.0  \n",
       "25%      -20.338122    -20.555307    -88.673426      1.0  \n",
       "50%        0.342007      0.235733      0.650076      1.0  \n",
       "75%       20.985931     20.527712     88.486945      1.0  \n",
       "max       55.904380     56.460030   3802.989172      1.0  "
      ]
     },
     "execution_count": 25,
     "metadata": {},
     "output_type": "execute_result"
    }
   ],
   "source": [
    "DF2.describe()"
   ]
  },
  {
   "cell_type": "markdown",
   "metadata": {},
   "source": [
    "## Write functions\n",
    "\n",
    "### Transverse Momentum"
   ]
  },
  {
   "cell_type": "code",
   "execution_count": 26,
   "metadata": {
    "collapsed": true
   },
   "outputs": [],
   "source": [
    "# write a function that takes in an object (which is a pandas Data Frame with 4 columns) \n",
    "# and outputs the transverse momentum\n",
    "def make_pt(four_vector):\n",
    "    '''four_vector is a DataFrame with columns in the shape of ['e', 'px', 'py', 'pz']\n",
    "    the output should be a column matrix.    \n",
    "    '''\n",
    "    fv = four_vector.as_matrix()\n",
    "    e = fv[:, 0]\n",
    "    px = fv[:, 1]\n",
    "    py = fv[:, 2]\n",
    "    pz = fv[:, 3]\n",
    "    \n",
    "    pt = np.sqrt(px**2 + py**2)\n",
    "    \n",
    "    return pt"
   ]
  },
  {
   "cell_type": "markdown",
   "metadata": {},
   "source": [
    "#### Add to DataFrame\n",
    "\n",
    "Add a $p_T$ column to each of the data frames for the $b$ and $\\bar{b}$"
   ]
  },
  {
   "cell_type": "code",
   "execution_count": 27,
   "metadata": {
    "collapsed": false
   },
   "outputs": [],
   "source": [
    "for df in DF1, DF2:\n",
    "    df['pt1'] = make_pt(df[['e1', 'px1', 'py1', 'pz1']])\n",
    "    df['pt2'] = make_pt(df[['e2', 'px2', 'py2', 'pz2']])"
   ]
  },
  {
   "cell_type": "markdown",
   "metadata": {},
   "source": [
    "Check to see if it worked"
   ]
  },
  {
   "cell_type": "code",
   "execution_count": 28,
   "metadata": {
    "collapsed": false
   },
   "outputs": [
    {
     "data": {
      "text/html": [
       "<div>\n",
       "<style>\n",
       "    .dataframe thead tr:only-child th {\n",
       "        text-align: right;\n",
       "    }\n",
       "\n",
       "    .dataframe thead th {\n",
       "        text-align: left;\n",
       "    }\n",
       "\n",
       "    .dataframe tbody tr th {\n",
       "        vertical-align: top;\n",
       "    }\n",
       "</style>\n",
       "<table border=\"1\" class=\"dataframe\">\n",
       "  <thead>\n",
       "    <tr style=\"text-align: right;\">\n",
       "      <th></th>\n",
       "      <th>e1</th>\n",
       "      <th>px1</th>\n",
       "      <th>py1</th>\n",
       "      <th>pz1</th>\n",
       "      <th>e2</th>\n",
       "      <th>px2</th>\n",
       "      <th>py2</th>\n",
       "      <th>pz2</th>\n",
       "      <th>type</th>\n",
       "      <th>pt1</th>\n",
       "      <th>pt2</th>\n",
       "    </tr>\n",
       "  </thead>\n",
       "  <tbody>\n",
       "    <tr>\n",
       "      <th>11276</th>\n",
       "      <td>63.072782</td>\n",
       "      <td>36.016570</td>\n",
       "      <td>-13.539099</td>\n",
       "      <td>-49.755254</td>\n",
       "      <td>39.453919</td>\n",
       "      <td>-36.016570</td>\n",
       "      <td>13.539099</td>\n",
       "      <td>7.349910</td>\n",
       "      <td>0</td>\n",
       "      <td>38.477273</td>\n",
       "      <td>38.477273</td>\n",
       "    </tr>\n",
       "    <tr>\n",
       "      <th>7927</th>\n",
       "      <td>2973.718673</td>\n",
       "      <td>26.863585</td>\n",
       "      <td>18.897957</td>\n",
       "      <td>2973.533566</td>\n",
       "      <td>1489.524791</td>\n",
       "      <td>-26.863585</td>\n",
       "      <td>-18.897957</td>\n",
       "      <td>1489.155206</td>\n",
       "      <td>0</td>\n",
       "      <td>32.844863</td>\n",
       "      <td>32.844863</td>\n",
       "    </tr>\n",
       "    <tr>\n",
       "      <th>13899</th>\n",
       "      <td>104.411493</td>\n",
       "      <td>-12.450074</td>\n",
       "      <td>-19.291427</td>\n",
       "      <td>-101.747267</td>\n",
       "      <td>519.921789</td>\n",
       "      <td>12.450074</td>\n",
       "      <td>19.291427</td>\n",
       "      <td>-519.393312</td>\n",
       "      <td>0</td>\n",
       "      <td>22.960041</td>\n",
       "      <td>22.960041</td>\n",
       "    </tr>\n",
       "    <tr>\n",
       "      <th>14683</th>\n",
       "      <td>93.538133</td>\n",
       "      <td>-11.304512</td>\n",
       "      <td>-2.270924</td>\n",
       "      <td>-92.705680</td>\n",
       "      <td>13.725329</td>\n",
       "      <td>11.304512</td>\n",
       "      <td>2.270924</td>\n",
       "      <td>5.774563</td>\n",
       "      <td>0</td>\n",
       "      <td>11.530355</td>\n",
       "      <td>11.530355</td>\n",
       "    </tr>\n",
       "    <tr>\n",
       "      <th>2850</th>\n",
       "      <td>1518.317276</td>\n",
       "      <td>-13.490645</td>\n",
       "      <td>23.018340</td>\n",
       "      <td>-1518.075564</td>\n",
       "      <td>178.529938</td>\n",
       "      <td>13.490645</td>\n",
       "      <td>-23.018340</td>\n",
       "      <td>-176.462481</td>\n",
       "      <td>0</td>\n",
       "      <td>26.680358</td>\n",
       "      <td>26.680358</td>\n",
       "    </tr>\n",
       "    <tr>\n",
       "      <th>10410</th>\n",
       "      <td>30.498272</td>\n",
       "      <td>-0.936241</td>\n",
       "      <td>30.109490</td>\n",
       "      <td>0.772419</td>\n",
       "      <td>30.510803</td>\n",
       "      <td>0.936241</td>\n",
       "      <td>-30.109490</td>\n",
       "      <td>1.166696</td>\n",
       "      <td>0</td>\n",
       "      <td>30.124043</td>\n",
       "      <td>30.124043</td>\n",
       "    </tr>\n",
       "    <tr>\n",
       "      <th>10544</th>\n",
       "      <td>180.416907</td>\n",
       "      <td>16.355473</td>\n",
       "      <td>-9.630928</td>\n",
       "      <td>-179.354158</td>\n",
       "      <td>25.465678</td>\n",
       "      <td>-16.355473</td>\n",
       "      <td>9.630928</td>\n",
       "      <td>-16.314241</td>\n",
       "      <td>0</td>\n",
       "      <td>18.980418</td>\n",
       "      <td>18.980418</td>\n",
       "    </tr>\n",
       "    <tr>\n",
       "      <th>18233</th>\n",
       "      <td>200.434122</td>\n",
       "      <td>30.633095</td>\n",
       "      <td>-16.303299</td>\n",
       "      <td>-197.351370</td>\n",
       "      <td>116.196466</td>\n",
       "      <td>-30.633095</td>\n",
       "      <td>16.303299</td>\n",
       "      <td>-110.794154</td>\n",
       "      <td>0</td>\n",
       "      <td>34.701356</td>\n",
       "      <td>34.701356</td>\n",
       "    </tr>\n",
       "    <tr>\n",
       "      <th>18471</th>\n",
       "      <td>1394.889096</td>\n",
       "      <td>21.213039</td>\n",
       "      <td>24.687978</td>\n",
       "      <td>1394.501348</td>\n",
       "      <td>918.824824</td>\n",
       "      <td>-21.213039</td>\n",
       "      <td>-24.687978</td>\n",
       "      <td>918.236069</td>\n",
       "      <td>0</td>\n",
       "      <td>32.549797</td>\n",
       "      <td>32.549797</td>\n",
       "    </tr>\n",
       "    <tr>\n",
       "      <th>6554</th>\n",
       "      <td>75.523360</td>\n",
       "      <td>-14.704747</td>\n",
       "      <td>-20.211832</td>\n",
       "      <td>71.112166</td>\n",
       "      <td>344.144038</td>\n",
       "      <td>14.704747</td>\n",
       "      <td>20.211832</td>\n",
       "      <td>343.202974</td>\n",
       "      <td>0</td>\n",
       "      <td>24.994954</td>\n",
       "      <td>24.994954</td>\n",
       "    </tr>\n",
       "  </tbody>\n",
       "</table>\n",
       "</div>"
      ],
      "text/plain": [
       "                e1        px1        py1          pz1           e2        px2  \\\n",
       "11276    63.072782  36.016570 -13.539099   -49.755254    39.453919 -36.016570   \n",
       "7927   2973.718673  26.863585  18.897957  2973.533566  1489.524791 -26.863585   \n",
       "13899   104.411493 -12.450074 -19.291427  -101.747267   519.921789  12.450074   \n",
       "14683    93.538133 -11.304512  -2.270924   -92.705680    13.725329  11.304512   \n",
       "2850   1518.317276 -13.490645  23.018340 -1518.075564   178.529938  13.490645   \n",
       "10410    30.498272  -0.936241  30.109490     0.772419    30.510803   0.936241   \n",
       "10544   180.416907  16.355473  -9.630928  -179.354158    25.465678 -16.355473   \n",
       "18233   200.434122  30.633095 -16.303299  -197.351370   116.196466 -30.633095   \n",
       "18471  1394.889096  21.213039  24.687978  1394.501348   918.824824 -21.213039   \n",
       "6554     75.523360 -14.704747 -20.211832    71.112166   344.144038  14.704747   \n",
       "\n",
       "             py2          pz2  type        pt1        pt2  \n",
       "11276  13.539099     7.349910     0  38.477273  38.477273  \n",
       "7927  -18.897957  1489.155206     0  32.844863  32.844863  \n",
       "13899  19.291427  -519.393312     0  22.960041  22.960041  \n",
       "14683   2.270924     5.774563     0  11.530355  11.530355  \n",
       "2850  -23.018340  -176.462481     0  26.680358  26.680358  \n",
       "10410 -30.109490     1.166696     0  30.124043  30.124043  \n",
       "10544   9.630928   -16.314241     0  18.980418  18.980418  \n",
       "18233  16.303299  -110.794154     0  34.701356  34.701356  \n",
       "18471 -24.687978   918.236069     0  32.549797  32.549797  \n",
       "6554   20.211832   343.202974     0  24.994954  24.994954  "
      ]
     },
     "execution_count": 28,
     "metadata": {},
     "output_type": "execute_result"
    }
   ],
   "source": [
    "DF1.sample(10)"
   ]
  },
  {
   "cell_type": "markdown",
   "metadata": {},
   "source": [
    "### Rapidity"
   ]
  },
  {
   "cell_type": "markdown",
   "metadata": {},
   "source": [
    "Now, let's do the same process, but for the rapidity of the particle. We will define rapidity as\n",
    "\n",
    "\\begin{equation}\n",
    "y  = \\frac{1}{2} \\ln \\left(\\frac{E + p_z}{E - p_z} \\right) \\,.\n",
    "\\end{equation}\n",
    "As we know, rapidity is useful because differences in rapidity, $\\Delta y$ are invariant under longitudinal boosts."
   ]
  },
  {
   "cell_type": "code",
   "execution_count": 29,
   "metadata": {
    "collapsed": true
   },
   "outputs": [],
   "source": [
    "# write a function that takes in an object (which is a pandas Data Frame with 4 columns) \n",
    "# and outputs the rapidity\n",
    "def make_rapidity(four_vector):\n",
    "    '''four_vector is a DataFrame with columns in the shape of ['e', 'px', 'py', 'pz']\n",
    "    the output should be a column matrix.    \n",
    "    '''\n",
    "    fv = four_vector.as_matrix()\n",
    "    e = fv[:, 0]\n",
    "    px = fv[:, 1]\n",
    "    py = fv[:, 2]\n",
    "    pz = fv[:, 3]\n",
    "    \n",
    "    rap = 0.5 * np.log((e + pz) / (e - pz))\n",
    "    \n",
    "    return rap"
   ]
  },
  {
   "cell_type": "code",
   "execution_count": 30,
   "metadata": {
    "collapsed": false
   },
   "outputs": [
    {
     "data": {
      "text/plain": [
       "1.0"
      ]
     },
     "execution_count": 30,
     "metadata": {},
     "output_type": "execute_result"
    }
   ],
   "source": [
    "np.log(np.e)"
   ]
  },
  {
   "cell_type": "markdown",
   "metadata": {},
   "source": [
    "#### Add to DataFrame"
   ]
  },
  {
   "cell_type": "code",
   "execution_count": 31,
   "metadata": {
    "collapsed": false
   },
   "outputs": [],
   "source": [
    "for df in DF1, DF2:\n",
    "    df['y1'] = make_rapidity(df[['e1', 'px1', 'py1', 'pz1']])\n",
    "    df['y2'] = make_rapidity(df[['e2', 'px2', 'py2', 'pz2']])"
   ]
  },
  {
   "cell_type": "markdown",
   "metadata": {},
   "source": [
    "Check that it worked"
   ]
  },
  {
   "cell_type": "code",
   "execution_count": 32,
   "metadata": {
    "collapsed": false
   },
   "outputs": [
    {
     "data": {
      "text/html": [
       "<div>\n",
       "<style>\n",
       "    .dataframe thead tr:only-child th {\n",
       "        text-align: right;\n",
       "    }\n",
       "\n",
       "    .dataframe thead th {\n",
       "        text-align: left;\n",
       "    }\n",
       "\n",
       "    .dataframe tbody tr th {\n",
       "        vertical-align: top;\n",
       "    }\n",
       "</style>\n",
       "<table border=\"1\" class=\"dataframe\">\n",
       "  <thead>\n",
       "    <tr style=\"text-align: right;\">\n",
       "      <th></th>\n",
       "      <th>e1</th>\n",
       "      <th>px1</th>\n",
       "      <th>py1</th>\n",
       "      <th>pz1</th>\n",
       "      <th>e2</th>\n",
       "      <th>px2</th>\n",
       "      <th>py2</th>\n",
       "      <th>pz2</th>\n",
       "      <th>type</th>\n",
       "      <th>pt1</th>\n",
       "      <th>pt2</th>\n",
       "      <th>y1</th>\n",
       "      <th>y2</th>\n",
       "    </tr>\n",
       "  </thead>\n",
       "  <tbody>\n",
       "    <tr>\n",
       "      <th>0</th>\n",
       "      <td>744.498417</td>\n",
       "      <td>-17.950328</td>\n",
       "      <td>-12.954194</td>\n",
       "      <td>-744.154404</td>\n",
       "      <td>55.940920</td>\n",
       "      <td>17.950328</td>\n",
       "      <td>12.954194</td>\n",
       "      <td>-51.159272</td>\n",
       "      <td>1</td>\n",
       "      <td>22.136518</td>\n",
       "      <td>22.136518</td>\n",
       "      <td>-4.186352</td>\n",
       "      <td>-1.554490</td>\n",
       "    </tr>\n",
       "    <tr>\n",
       "      <th>1</th>\n",
       "      <td>110.374840</td>\n",
       "      <td>12.695232</td>\n",
       "      <td>13.535216</td>\n",
       "      <td>108.702090</td>\n",
       "      <td>1975.334176</td>\n",
       "      <td>-12.695232</td>\n",
       "      <td>-13.535216</td>\n",
       "      <td>1975.241414</td>\n",
       "      <td>1</td>\n",
       "      <td>18.557236</td>\n",
       "      <td>18.557236</td>\n",
       "      <td>2.437477</td>\n",
       "      <td>5.329671</td>\n",
       "    </tr>\n",
       "    <tr>\n",
       "      <th>2</th>\n",
       "      <td>1286.156608</td>\n",
       "      <td>-4.587486</td>\n",
       "      <td>25.173872</td>\n",
       "      <td>1285.893449</td>\n",
       "      <td>128.198043</td>\n",
       "      <td>4.587486</td>\n",
       "      <td>-25.173872</td>\n",
       "      <td>125.530393</td>\n",
       "      <td>1</td>\n",
       "      <td>25.588452</td>\n",
       "      <td>25.588452</td>\n",
       "      <td>4.593727</td>\n",
       "      <td>2.277533</td>\n",
       "    </tr>\n",
       "    <tr>\n",
       "      <th>3</th>\n",
       "      <td>53.720220</td>\n",
       "      <td>-7.080857</td>\n",
       "      <td>13.251724</td>\n",
       "      <td>51.361710</td>\n",
       "      <td>37.782731</td>\n",
       "      <td>7.080857</td>\n",
       "      <td>-13.251724</td>\n",
       "      <td>-34.346732</td>\n",
       "      <td>1</td>\n",
       "      <td>15.024871</td>\n",
       "      <td>15.024871</td>\n",
       "      <td>1.898355</td>\n",
       "      <td>-1.522078</td>\n",
       "    </tr>\n",
       "    <tr>\n",
       "      <th>4</th>\n",
       "      <td>1054.601340</td>\n",
       "      <td>12.969103</td>\n",
       "      <td>20.525328</td>\n",
       "      <td>1054.311344</td>\n",
       "      <td>111.392335</td>\n",
       "      <td>-12.969103</td>\n",
       "      <td>-20.525328</td>\n",
       "      <td>108.612502</td>\n",
       "      <td>1</td>\n",
       "      <td>24.279347</td>\n",
       "      <td>24.279347</td>\n",
       "      <td>4.445908</td>\n",
       "      <td>2.185629</td>\n",
       "    </tr>\n",
       "  </tbody>\n",
       "</table>\n",
       "</div>"
      ],
      "text/plain": [
       "            e1        px1        py1          pz1           e2        px2  \\\n",
       "0   744.498417 -17.950328 -12.954194  -744.154404    55.940920  17.950328   \n",
       "1   110.374840  12.695232  13.535216   108.702090  1975.334176 -12.695232   \n",
       "2  1286.156608  -4.587486  25.173872  1285.893449   128.198043   4.587486   \n",
       "3    53.720220  -7.080857  13.251724    51.361710    37.782731   7.080857   \n",
       "4  1054.601340  12.969103  20.525328  1054.311344   111.392335 -12.969103   \n",
       "\n",
       "         py2          pz2  type        pt1        pt2        y1        y2  \n",
       "0  12.954194   -51.159272     1  22.136518  22.136518 -4.186352 -1.554490  \n",
       "1 -13.535216  1975.241414     1  18.557236  18.557236  2.437477  5.329671  \n",
       "2 -25.173872   125.530393     1  25.588452  25.588452  4.593727  2.277533  \n",
       "3 -13.251724   -34.346732     1  15.024871  15.024871  1.898355 -1.522078  \n",
       "4 -20.525328   108.612502     1  24.279347  24.279347  4.445908  2.185629  "
      ]
     },
     "execution_count": 32,
     "metadata": {},
     "output_type": "execute_result"
    }
   ],
   "source": [
    "DF2.head(5)"
   ]
  },
  {
   "cell_type": "markdown",
   "metadata": {},
   "source": [
    "Did Madgraph impose any restrictions on the rapidity? Find the minimum and maximum rapidity in each sample for both the $b$ and $\\bar{b}$."
   ]
  },
  {
   "cell_type": "code",
   "execution_count": 33,
   "metadata": {
    "collapsed": false
   },
   "outputs": [
    {
     "data": {
      "text/html": [
       "<div>\n",
       "<style>\n",
       "    .dataframe thead tr:only-child th {\n",
       "        text-align: right;\n",
       "    }\n",
       "\n",
       "    .dataframe thead th {\n",
       "        text-align: left;\n",
       "    }\n",
       "\n",
       "    .dataframe tbody tr th {\n",
       "        vertical-align: top;\n",
       "    }\n",
       "</style>\n",
       "<table border=\"1\" class=\"dataframe\">\n",
       "  <thead>\n",
       "    <tr style=\"text-align: right;\">\n",
       "      <th></th>\n",
       "      <th>y1</th>\n",
       "      <th>y2</th>\n",
       "    </tr>\n",
       "  </thead>\n",
       "  <tbody>\n",
       "    <tr>\n",
       "      <th>count</th>\n",
       "      <td>20000.000000</td>\n",
       "      <td>20000.000000</td>\n",
       "    </tr>\n",
       "    <tr>\n",
       "      <th>mean</th>\n",
       "      <td>-0.006796</td>\n",
       "      <td>0.010534</td>\n",
       "    </tr>\n",
       "    <tr>\n",
       "      <th>std</th>\n",
       "      <td>2.711301</td>\n",
       "      <td>2.202193</td>\n",
       "    </tr>\n",
       "    <tr>\n",
       "      <th>min</th>\n",
       "      <td>-6.982936</td>\n",
       "      <td>-6.647411</td>\n",
       "    </tr>\n",
       "    <tr>\n",
       "      <th>25%</th>\n",
       "      <td>-2.153611</td>\n",
       "      <td>-1.732666</td>\n",
       "    </tr>\n",
       "    <tr>\n",
       "      <th>50%</th>\n",
       "      <td>-0.030666</td>\n",
       "      <td>0.023227</td>\n",
       "    </tr>\n",
       "    <tr>\n",
       "      <th>75%</th>\n",
       "      <td>2.171802</td>\n",
       "      <td>1.742698</td>\n",
       "    </tr>\n",
       "    <tr>\n",
       "      <th>max</th>\n",
       "      <td>7.065231</td>\n",
       "      <td>6.684530</td>\n",
       "    </tr>\n",
       "  </tbody>\n",
       "</table>\n",
       "</div>"
      ],
      "text/plain": [
       "                 y1            y2\n",
       "count  20000.000000  20000.000000\n",
       "mean      -0.006796      0.010534\n",
       "std        2.711301      2.202193\n",
       "min       -6.982936     -6.647411\n",
       "25%       -2.153611     -1.732666\n",
       "50%       -0.030666      0.023227\n",
       "75%        2.171802      1.742698\n",
       "max        7.065231      6.684530"
      ]
     },
     "execution_count": 33,
     "metadata": {},
     "output_type": "execute_result"
    }
   ],
   "source": [
    "DF2[['y1', 'y2']].describe()"
   ]
  },
  {
   "cell_type": "code",
   "execution_count": 34,
   "metadata": {
    "collapsed": false
   },
   "outputs": [
    {
     "data": {
      "text/html": [
       "<div>\n",
       "<style>\n",
       "    .dataframe thead tr:only-child th {\n",
       "        text-align: right;\n",
       "    }\n",
       "\n",
       "    .dataframe thead th {\n",
       "        text-align: left;\n",
       "    }\n",
       "\n",
       "    .dataframe tbody tr th {\n",
       "        vertical-align: top;\n",
       "    }\n",
       "</style>\n",
       "<table border=\"1\" class=\"dataframe\">\n",
       "  <thead>\n",
       "    <tr style=\"text-align: right;\">\n",
       "      <th></th>\n",
       "      <th>y1</th>\n",
       "      <th>y2</th>\n",
       "    </tr>\n",
       "  </thead>\n",
       "  <tbody>\n",
       "    <tr>\n",
       "      <th>count</th>\n",
       "      <td>20000.000000</td>\n",
       "      <td>20000.000000</td>\n",
       "    </tr>\n",
       "    <tr>\n",
       "      <th>mean</th>\n",
       "      <td>-0.008315</td>\n",
       "      <td>0.006878</td>\n",
       "    </tr>\n",
       "    <tr>\n",
       "      <th>std</th>\n",
       "      <td>2.642076</td>\n",
       "      <td>2.640931</td>\n",
       "    </tr>\n",
       "    <tr>\n",
       "      <th>min</th>\n",
       "      <td>-6.963738</td>\n",
       "      <td>-7.369071</td>\n",
       "    </tr>\n",
       "    <tr>\n",
       "      <th>25%</th>\n",
       "      <td>-2.123454</td>\n",
       "      <td>-2.113931</td>\n",
       "    </tr>\n",
       "    <tr>\n",
       "      <th>50%</th>\n",
       "      <td>-0.005164</td>\n",
       "      <td>-0.013727</td>\n",
       "    </tr>\n",
       "    <tr>\n",
       "      <th>75%</th>\n",
       "      <td>2.107943</td>\n",
       "      <td>2.122989</td>\n",
       "    </tr>\n",
       "    <tr>\n",
       "      <th>max</th>\n",
       "      <td>6.784410</td>\n",
       "      <td>7.024007</td>\n",
       "    </tr>\n",
       "  </tbody>\n",
       "</table>\n",
       "</div>"
      ],
      "text/plain": [
       "                 y1            y2\n",
       "count  20000.000000  20000.000000\n",
       "mean      -0.008315      0.006878\n",
       "std        2.642076      2.640931\n",
       "min       -6.963738     -7.369071\n",
       "25%       -2.123454     -2.113931\n",
       "50%       -0.005164     -0.013727\n",
       "75%        2.107943      2.122989\n",
       "max        6.784410      7.024007"
      ]
     },
     "execution_count": 34,
     "metadata": {},
     "output_type": "execute_result"
    }
   ],
   "source": [
    "DF1[['y1', 'y2']].describe()"
   ]
  },
  {
   "cell_type": "markdown",
   "metadata": {},
   "source": [
    "### Invariant mass\n",
    "The invariant mass is defined as $p^2_4 = e^2 - p_3^2$. What we really want is the invariant mass of the s-channel propagator. Write two functions, one for the invariant mass of one particle, one for the invariant mass of the parent of two daughter particles."
   ]
  },
  {
   "cell_type": "code",
   "execution_count": 35,
   "metadata": {
    "collapsed": true
   },
   "outputs": [],
   "source": [
    "# Invariant mass of one particle\n",
    "def get_minv(four_vector):\n",
    "    fv = four_vector.as_matrix()\n",
    "    e = fv[:, 0]\n",
    "    px = fv[:, 1]\n",
    "    py = fv[:, 2]\n",
    "    pz = fv[:, 3]\n",
    "    \n",
    "#     minv\n",
    "    \n",
    "    pass"
   ]
  },
  {
   "cell_type": "code",
   "execution_count": 36,
   "metadata": {
    "collapsed": true
   },
   "outputs": [],
   "source": [
    "# Invariant mass of two particles\n",
    "def get_minv2(four_vector1, four_vector2):\n",
    "    fv1 = four_vector1.as_matrix()\n",
    "    e1 = fv1[:, 0]\n",
    "    px1 = fv1[:, 1]\n",
    "    py1 = fv1[:, 2]\n",
    "    pz1 = fv1[:, 3]\n",
    "    \n",
    "    fv2 = four_vector2.as_matrix()\n",
    "    e2 = fv2[:, 0]\n",
    "    px2 = fv2[:, 1]\n",
    "    py2 = fv2[:, 2]\n",
    "    pz2 = fv2[:, 3]\n",
    "    \n",
    "    minv2 = (e1 + e2)**2 - (px1 + px2)**2 - (py1 + py2)**2 - (pz1 + pz2)**2\n",
    "    \n",
    "    return np.sqrt(minv2)"
   ]
  },
  {
   "cell_type": "code",
   "execution_count": 37,
   "metadata": {
    "collapsed": false
   },
   "outputs": [],
   "source": [
    "for df in DF1, DF2:\n",
    "    df['minv'] = get_minv2(df[['e1', 'px1', 'py1', 'pz1']],\n",
    "                           df[['e2', 'px2', 'py2', 'pz2']]\n",
    "                          )"
   ]
  },
  {
   "cell_type": "markdown",
   "metadata": {},
   "source": [
    "## Plot the distributions"
   ]
  },
  {
   "cell_type": "markdown",
   "metadata": {},
   "source": [
    "Get a list that has all of the columns in the data frame."
   ]
  },
  {
   "cell_type": "code",
   "execution_count": 38,
   "metadata": {
    "collapsed": false
   },
   "outputs": [
    {
     "name": "stdout",
     "output_type": "stream",
     "text": [
      "e1, px1, py1, pz1, e2, px2, py2, pz2, type, pt1, pt2, y1, y2, minv\n"
     ]
    }
   ],
   "source": [
    "cols = DF1.columns\n",
    "print ', '.join(cols)"
   ]
  },
  {
   "cell_type": "markdown",
   "metadata": {},
   "source": [
    "Use two for loops to plot histograms of all of the data"
   ]
  },
  {
   "cell_type": "code",
   "execution_count": 39,
   "metadata": {
    "collapsed": false
   },
   "outputs": [
    {
     "data": {
      "image/png": "[encoded data removed]",
      "text/plain": [
       "<matplotlib.figure.Figure at 0x10f88ab90>"
      ]
     },
     "metadata": {},
     "output_type": "display_data"
    },
    {
     "data": {
      "image/png": "[encoded data removed]",
      "text/plain": [
       "<matplotlib.figure.Figure at 0x10f796bd0>"
      ]
     },
     "metadata": {},
     "output_type": "display_data"
    },
    {
     "data": {
      "image/png": "[encoded data removed]",
      "text/plain": [
       "<matplotlib.figure.Figure at 0x10fc35850>"
      ]
     },
     "metadata": {},
     "output_type": "display_data"
    },
    {
     "data": {
      "image/png": "[encoded data removed]",
      "text/plain": [
       "<matplotlib.figure.Figure at 0x10ef16e50>"
      ]
     },
     "metadata": {},
     "output_type": "display_data"
    },
    {
     "data": {
      "image/png": "[encoded data removed]",
      "text/plain": [
       "<matplotlib.figure.Figure at 0x10fc8ae10>"
      ]
     },
     "metadata": {},
     "output_type": "display_data"
    },
    {
     "data": {
      "image/png": "[encoded data removed]",
      "text/plain": [
       "<matplotlib.figure.Figure at 0x10e3b2a90>"
      ]
     },
     "metadata": {},
     "output_type": "display_data"
    },
    {
     "data": {
      "image/png": "[encoded data removed]",
      "text/plain": [
       "<matplotlib.figure.Figure at 0x10df8fe10>"
      ]
     },
     "metadata": {},
     "output_type": "display_data"
    },
    {
     "data": {
      "image/png": "[encoded data removed]",
      "text/plain": [
       "<matplotlib.figure.Figure at 0x10d7e17d0>"
      ]
     },
     "metadata": {},
     "output_type": "display_data"
    },
    {
     "data": {
      "image/png": "[encoded data removed]",
      "text/plain": [
       "<matplotlib.figure.Figure at 0x10e488a90>"
      ]
     },
     "metadata": {},
     "output_type": "display_data"
    },
    {
     "data": {
      "image/png": "[encoded data removed]",
      "text/plain": [
       "<matplotlib.figure.Figure at 0x10e328390>"
      ]
     },
     "metadata": {},
     "output_type": "display_data"
    },
    {
     "data": {
      "image/png": "[encoded data removed]",
      "text/plain": [
       "<matplotlib.figure.Figure at 0x10d70f090>"
      ]
     },
     "metadata": {},
     "output_type": "display_data"
    },
    {
     "data": {
      "image/png": "[encoded data removed]",
      "text/plain": [
       "<matplotlib.figure.Figure at 0x10e34de10>"
      ]
     },
     "metadata": {},
     "output_type": "display_data"
    },
    {
     "data": {
      "image/png": "[encoded data removed]",
      "text/plain": [
       "<matplotlib.figure.Figure at 0x10e23cbd0>"
      ]
     },
     "metadata": {},
     "output_type": "display_data"
    },
    {
     "data": {
      "image/png": "[encoded data removed]",
      "text/plain": [
       "<matplotlib.figure.Figure at 0x10fc35a50>"
      ]
     },
     "metadata": {},
     "output_type": "display_data"
    }
   ],
   "source": [
    "for column in cols:\n",
    "    for df in DF1, DF2:\n",
    "        plt.hist(df[column], histtype='step', bins=50)\n",
    "    plt.xlabel(column)\n",
    "    plt.show()   "
   ]
  },
  {
   "cell_type": "code",
   "execution_count": null,
   "metadata": {
    "collapsed": true
   },
   "outputs": [],
   "source": []
  }
 ],
 "metadata": {
  "anaconda-cloud": {},
  "kernelspec": {
   "display_name": "Python [conda root]",
   "language": "python",
   "name": "conda-root-py"
  },
  "language_info": {
   "codemirror_mode": {
    "name": "ipython",
    "version": 2
   },
   "file_extension": ".py",
   "mimetype": "text/x-python",
   "name": "python",
   "nbconvert_exporter": "python",
   "pygments_lexer": "ipython2",
   "version": "2.7.12"
  },
  "toc": {
   "colors": {
    "hover_highlight": "#DAA520",
    "navigate_num": "#000000",
    "navigate_text": "#333333",
    "running_highlight": "#FF0000",
    "selected_highlight": "#FFD700",
    "sidebar_border": "#EEEEEE",
    "wrapper_background": "#FFFFFF"
   },
   "moveMenuLeft": true,
   "nav_menu": {
    "height": "228px",
    "width": "252px"
   },
   "navigate_menu": true,
   "number_sections": true,
   "sideBar": true,
   "threshold": 4,
   "toc_cell": true,
   "toc_section_display": "block",
   "toc_window_display": true,
   "widenNotebook": false
  }
 },
 "nbformat": 4,
 "nbformat_minor": 1
}
