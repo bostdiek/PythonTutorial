{
 "cells": [
  {
   "cell_type": "markdown",
   "metadata": {
    "toc": "true"
   },
   "source": [
    "# Table of Contents\n",
    " <p><div class=\"lev1 toc-item\"><a href=\"#Import-and-load-data\" data-toc-modified-id=\"Import-and-load-data-1\"><span class=\"toc-item-num\">1&nbsp;&nbsp;</span>Import and load data</a></div><div class=\"lev2 toc-item\"><a href=\"#Imports\" data-toc-modified-id=\"Imports-11\"><span class=\"toc-item-num\">1.1&nbsp;&nbsp;</span>Imports</a></div><div class=\"lev2 toc-item\"><a href=\"#Load\" data-toc-modified-id=\"Load-12\"><span class=\"toc-item-num\">1.2&nbsp;&nbsp;</span>Load</a></div><div class=\"lev1 toc-item\"><a href=\"#Problem-Statement\" data-toc-modified-id=\"Problem-Statement-2\"><span class=\"toc-item-num\">2&nbsp;&nbsp;</span>Problem Statement</a></div><div class=\"lev2 toc-item\"><a href=\"#Examine-the-data\" data-toc-modified-id=\"Examine-the-data-21\"><span class=\"toc-item-num\">2.1&nbsp;&nbsp;</span>Examine the data</a></div><div class=\"lev2 toc-item\"><a href=\"#Write-functions\" data-toc-modified-id=\"Write-functions-22\"><span class=\"toc-item-num\">2.2&nbsp;&nbsp;</span>Write functions</a></div><div class=\"lev3 toc-item\"><a href=\"#Transverse-Momentum\" data-toc-modified-id=\"Transverse-Momentum-221\"><span class=\"toc-item-num\">2.2.1&nbsp;&nbsp;</span>Transverse Momentum</a></div><div class=\"lev4 toc-item\"><a href=\"#Add-to-DataFrame\" data-toc-modified-id=\"Add-to-DataFrame-2211\"><span class=\"toc-item-num\">2.2.1.1&nbsp;&nbsp;</span>Add to DataFrame</a></div><div class=\"lev3 toc-item\"><a href=\"#Rapidity\" data-toc-modified-id=\"Rapidity-222\"><span class=\"toc-item-num\">2.2.2&nbsp;&nbsp;</span>Rapidity</a></div><div class=\"lev4 toc-item\"><a href=\"#Add-to-DataFrame\" data-toc-modified-id=\"Add-to-DataFrame-2221\"><span class=\"toc-item-num\">2.2.2.1&nbsp;&nbsp;</span>Add to DataFrame</a></div><div class=\"lev3 toc-item\"><a href=\"#Invariant-mass\" data-toc-modified-id=\"Invariant-mass-223\"><span class=\"toc-item-num\">2.2.3&nbsp;&nbsp;</span>Invariant mass</a></div><div class=\"lev2 toc-item\"><a href=\"#Plot-the-distributions\" data-toc-modified-id=\"Plot-the-distributions-23\"><span class=\"toc-item-num\">2.3&nbsp;&nbsp;</span>Plot the distributions</a></div>"
   ]
  },
  {
   "cell_type": "markdown",
   "metadata": {},
   "source": [
    "# Import and load data"
   ]
  },
  {
   "cell_type": "markdown",
   "metadata": {},
   "source": [
    "## Imports"
   ]
  },
  {
   "cell_type": "code",
   "execution_count": null,
   "metadata": {
    "collapsed": true
   },
   "outputs": [],
   "source": [
    "%matplotlib inline\n",
    "\n",
    "import pandas as pd\n",
    "import numpy as np\n",
    "\n",
    "import matplotlib.pyplot as plt\n",
    "\n",
    "\n",
    "plt.rcParams.update({'font.family':'cmr10','font.size': 13})\n",
    "plt.rcParams['axes.unicode_minus']=False\n",
    "plt.rcParams['axes.labelsize']=15\n",
    "plt.rcParams['figure.figsize']=(4,4)"
   ]
  },
  {
   "cell_type": "markdown",
   "metadata": {},
   "source": [
    "## Load"
   ]
  },
  {
   "cell_type": "code",
   "execution_count": null,
   "metadata": {
    "collapsed": true
   },
   "outputs": [],
   "source": [
    "TotalSet = pd.read_csv('../Data/PracticeDataset.dat', index_col=0)"
   ]
  },
  {
   "cell_type": "markdown",
   "metadata": {},
   "source": [
    "What are the different columns in the data set?"
   ]
  },
  {
   "cell_type": "code",
   "execution_count": null,
   "metadata": {
    "collapsed": true
   },
   "outputs": [],
   "source": []
  },
  {
   "cell_type": "markdown",
   "metadata": {},
   "source": [
    "How many different 'types' are there? Make a new DataFrame for each type"
   ]
  },
  {
   "cell_type": "code",
   "execution_count": null,
   "metadata": {
    "collapsed": true
   },
   "outputs": [],
   "source": []
  },
  {
   "cell_type": "markdown",
   "metadata": {},
   "source": [
    "# Problem Statement\n",
    "\n",
    "These data files contain the four-vectors for $p\\bar{p} \\rightarrow b\\bar{b}$ collisions. We want to see if we can make cuts which will distinguish the two data sets. To do this, we are going to need to define functions which will add transverse momentum, rapidity, and invariant mass to our data tables. We are also going to want to plot the data."
   ]
  },
  {
   "cell_type": "markdown",
   "metadata": {},
   "source": [
    "## Examine the data"
   ]
  },
  {
   "cell_type": "code",
   "execution_count": null,
   "metadata": {
    "collapsed": false
   },
   "outputs": [],
   "source": [
    "# Use the DataFrame function describe()\n",
    "# Enter your code here\n"
   ]
  },
  {
   "cell_type": "code",
   "execution_count": null,
   "metadata": {
    "collapsed": false
   },
   "outputs": [],
   "source": [
    "# Use the DataFrame function describe()\n",
    "# Enter your code here\n"
   ]
  },
  {
   "cell_type": "markdown",
   "metadata": {},
   "source": [
    "## Write functions\n",
    "\n",
    "### Transverse Momentum"
   ]
  },
  {
   "cell_type": "code",
   "execution_count": null,
   "metadata": {
    "collapsed": true
   },
   "outputs": [],
   "source": [
    "# write a function that takes in an object (which is a pandas Data Frame with 4 columns) \n",
    "# and outputs the transverse momentum\n",
    "def make_pt(four_vector):\n",
    "    '''four_vector is a DataFrame with columns in the shape of ['e', 'px', 'py', 'pz']\n",
    "    the output should be a column matrix.    \n",
    "    '''\n",
    "    \n",
    "    pt = 0\n",
    "    \n",
    "    return pt"
   ]
  },
  {
   "cell_type": "markdown",
   "metadata": {},
   "source": [
    "#### Add to DataFrame\n",
    "\n",
    "Add a $p_T$ column to each of the data frames for the $b$ and $\\bar{b}$"
   ]
  },
  {
   "cell_type": "code",
   "execution_count": null,
   "metadata": {
    "collapsed": false
   },
   "outputs": [],
   "source": [
    "# Can you do it with a for loop?\n"
   ]
  },
  {
   "cell_type": "markdown",
   "metadata": {},
   "source": [
    "Check to see if it worked"
   ]
  },
  {
   "cell_type": "code",
   "execution_count": null,
   "metadata": {
    "collapsed": false
   },
   "outputs": [],
   "source": [
    "DF1.sample(10)"
   ]
  },
  {
   "cell_type": "markdown",
   "metadata": {},
   "source": [
    "### Rapidity"
   ]
  },
  {
   "cell_type": "markdown",
   "metadata": {},
   "source": [
    "Now, let's do the same process, but for the rapidity of the particle. We will define rapidity as\n",
    "\n",
    "\\begin{equation}\n",
    "y  = \\frac{1}{2} \\ln \\left(\\frac{E + p_z}{E - p_z} \\right) \\,.\n",
    "\\end{equation}\n",
    "As we know, rapidity is useful because differences in rapidity, $\\Delta y$ are invariant under longitudinal boosts."
   ]
  },
  {
   "cell_type": "code",
   "execution_count": null,
   "metadata": {
    "collapsed": false
   },
   "outputs": [],
   "source": [
    "# Just to see the definition of log\n",
    "np.log(np.e)"
   ]
  },
  {
   "cell_type": "code",
   "execution_count": null,
   "metadata": {
    "collapsed": true
   },
   "outputs": [],
   "source": [
    "# write a function that takes in an object (which is a pandas Data Frame with 4 columns) \n",
    "# and outputs the rapidity\n",
    "def make_rapidity(four_vector):\n",
    "    '''four_vector is a DataFrame with columns in the shape of ['e', 'px', 'py', 'pz']\n",
    "    the output should be a column matrix.    \n",
    "    '''\n",
    "    \n",
    "    \n",
    "    rap = 0\n",
    "    \n",
    "    return rap"
   ]
  },
  {
   "cell_type": "markdown",
   "metadata": {},
   "source": [
    "#### Add to DataFrame"
   ]
  },
  {
   "cell_type": "code",
   "execution_count": null,
   "metadata": {
    "collapsed": true
   },
   "outputs": [],
   "source": [
    "# Use a for loop"
   ]
  },
  {
   "cell_type": "markdown",
   "metadata": {},
   "source": [
    "Check that it worked"
   ]
  },
  {
   "cell_type": "code",
   "execution_count": null,
   "metadata": {
    "collapsed": false
   },
   "outputs": [],
   "source": [
    "# Use head or describe\n"
   ]
  },
  {
   "cell_type": "markdown",
   "metadata": {},
   "source": [
    "Did Madgraph impose any restrictions on the rapidity? Find the minimum and maximum rapidity in each sample for both the $b$ and $\\bar{b}$."
   ]
  },
  {
   "cell_type": "code",
   "execution_count": null,
   "metadata": {
    "collapsed": false
   },
   "outputs": [],
   "source": []
  },
  {
   "cell_type": "markdown",
   "metadata": {},
   "source": [
    "### Invariant mass\n",
    "The invariant mass is defined as $p^2_4 = e^2 - p_3^2$. What we really want is the invariant mass of the s-channel propagator. Write two functions, one for the invariant mass of one particle, one for the invariant mass of the parent of two daughter particles."
   ]
  },
  {
   "cell_type": "code",
   "execution_count": null,
   "metadata": {
    "collapsed": true
   },
   "outputs": [],
   "source": [
    "# Invariant mass of one particle\n",
    "def get_minv(four_vector):\n",
    "\n",
    "#     minv\n",
    "    \n",
    "    pass"
   ]
  },
  {
   "cell_type": "code",
   "execution_count": null,
   "metadata": {
    "collapsed": true
   },
   "outputs": [],
   "source": [
    "# Invariant mass of two particles\n",
    "def get_minv2(four_vector1, four_vector2):\n",
    "    \n",
    "    pass"
   ]
  },
  {
   "cell_type": "code",
   "execution_count": null,
   "metadata": {
    "collapsed": false
   },
   "outputs": [],
   "source": [
    "# Now add the invariant mass of the combined two particles to the data frames\n"
   ]
  },
  {
   "cell_type": "markdown",
   "metadata": {},
   "source": [
    "## Plot the distributions"
   ]
  },
  {
   "cell_type": "markdown",
   "metadata": {},
   "source": [
    "Get a list that has all of the columns in the data frame."
   ]
  },
  {
   "cell_type": "code",
   "execution_count": null,
   "metadata": {
    "collapsed": false
   },
   "outputs": [],
   "source": []
  },
  {
   "cell_type": "markdown",
   "metadata": {},
   "source": [
    "Use two for loops to plot histograms of all of the data"
   ]
  },
  {
   "cell_type": "code",
   "execution_count": null,
   "metadata": {
    "collapsed": false
   },
   "outputs": [],
   "source": [
    " "
   ]
  },
  {
   "cell_type": "code",
   "execution_count": null,
   "metadata": {
    "collapsed": true
   },
   "outputs": [],
   "source": []
  }
 ],
 "metadata": {
  "anaconda-cloud": {},
  "kernelspec": {
   "display_name": "Python [conda root]",
   "language": "python",
   "name": "conda-root-py"
  },
  "language_info": {
   "codemirror_mode": {
    "name": "ipython",
    "version": 2
   },
   "file_extension": ".py",
   "mimetype": "text/x-python",
   "name": "python",
   "nbconvert_exporter": "python",
   "pygments_lexer": "ipython2",
   "version": "2.7.12"
  },
  "toc": {
   "colors": {
    "hover_highlight": "#DAA520",
    "navigate_num": "#000000",
    "navigate_text": "#333333",
    "running_highlight": "#FF0000",
    "selected_highlight": "#FFD700",
    "sidebar_border": "#EEEEEE",
    "wrapper_background": "#FFFFFF"
   },
   "moveMenuLeft": true,
   "nav_menu": {
    "height": "228px",
    "width": "252px"
   },
   "navigate_menu": true,
   "number_sections": true,
   "sideBar": true,
   "threshold": 4,
   "toc_cell": true,
   "toc_section_display": "block",
   "toc_window_display": true,
   "widenNotebook": false
  }
 },
 "nbformat": 4,
 "nbformat_minor": 1
}
