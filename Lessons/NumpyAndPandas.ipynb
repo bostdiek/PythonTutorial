{
 "cells": [
  {
   "cell_type": "markdown",
   "metadata": {
    "toc": "true"
   },
   "source": [
    "# Table of Contents\n",
    " <p>"
   ]
  },
  {
   "cell_type": "code",
   "execution_count": 1,
   "metadata": {
    "collapsed": true
   },
   "outputs": [],
   "source": [
    "import numpy as np"
   ]
  },
  {
   "cell_type": "code",
   "execution_count": 6,
   "metadata": {
    "collapsed": true
   },
   "outputs": [],
   "source": [
    "a = np.array([[3425, 45, 7, 42]])"
   ]
  },
  {
   "cell_type": "code",
   "execution_count": 7,
   "metadata": {
    "collapsed": false
   },
   "outputs": [
    {
     "data": {
      "text/plain": [
       "array([[ 58.52349955,   6.70820393,   2.64575131,   6.4807407 ]])"
      ]
     },
     "execution_count": 7,
     "metadata": {},
     "output_type": "execute_result"
    }
   ],
   "source": [
    "np.sqrt(a)"
   ]
  },
  {
   "cell_type": "code",
   "execution_count": 8,
   "metadata": {
    "collapsed": false
   },
   "outputs": [
    {
     "data": {
      "text/plain": [
       "array([[3425],\n",
       "       [  45],\n",
       "       [   7],\n",
       "       [  42]])"
      ]
     },
     "execution_count": 8,
     "metadata": {},
     "output_type": "execute_result"
    }
   ],
   "source": [
    "a.T"
   ]
  },
  {
   "cell_type": "code",
   "execution_count": 9,
   "metadata": {
    "collapsed": false
   },
   "outputs": [
    {
     "data": {
      "text/plain": [
       "(1, 4)"
      ]
     },
     "execution_count": 9,
     "metadata": {},
     "output_type": "execute_result"
    }
   ],
   "source": [
    "a.shape"
   ]
  },
  {
   "cell_type": "code",
   "execution_count": 13,
   "metadata": {
    "collapsed": false
   },
   "outputs": [],
   "source": [
    "b = np.dot(a.T, a)"
   ]
  },
  {
   "cell_type": "code",
   "execution_count": 14,
   "metadata": {
    "collapsed": false
   },
   "outputs": [
    {
     "name": "stdout",
     "output_type": "stream",
     "text": [
      "[[11730625   154125    23975   143850]\n",
      " [  154125     2025      315     1890]\n",
      " [   23975      315       49      294]\n",
      " [  143850     1890      294     1764]]\n"
     ]
    }
   ],
   "source": [
    "print b"
   ]
  },
  {
   "cell_type": "code",
   "execution_count": 17,
   "metadata": {
    "collapsed": false
   },
   "outputs": [],
   "source": [
    "b[b <100] = 0"
   ]
  },
  {
   "cell_type": "code",
   "execution_count": 18,
   "metadata": {
    "collapsed": false
   },
   "outputs": [
    {
     "data": {
      "text/plain": [
       "array([[11730625,   154125,    23975,   143850],\n",
       "       [  154125,     2025,      315,     1890],\n",
       "       [   23975,      315,        0,      294],\n",
       "       [  143850,     1890,      294,     1764]])"
      ]
     },
     "execution_count": 18,
     "metadata": {},
     "output_type": "execute_result"
    }
   ],
   "source": [
    "b"
   ]
  },
  {
   "cell_type": "code",
   "execution_count": 19,
   "metadata": {
    "collapsed": true
   },
   "outputs": [],
   "source": [
    "import pandas as pd"
   ]
  },
  {
   "cell_type": "code",
   "execution_count": 25,
   "metadata": {
    "collapsed": false
   },
   "outputs": [],
   "source": [
    "data = pd.read_csv('./testIO.txt')"
   ]
  },
  {
   "cell_type": "code",
   "execution_count": 32,
   "metadata": {
    "collapsed": false
   },
   "outputs": [
    {
     "data": {
      "text/plain": [
       "Index([u'x', u' y'], dtype='object')"
      ]
     },
     "execution_count": 32,
     "metadata": {},
     "output_type": "execute_result"
    }
   ],
   "source": [
    "data.columns"
   ]
  },
  {
   "cell_type": "code",
   "execution_count": 33,
   "metadata": {
    "collapsed": false
   },
   "outputs": [],
   "source": [
    "data['r'] = np.sqrt(data['x']**2 + data[' y']**2)"
   ]
  },
  {
   "cell_type": "code",
   "execution_count": 34,
   "metadata": {
    "collapsed": false
   },
   "outputs": [
    {
     "data": {
      "text/html": [
       "<div>\n",
       "<style>\n",
       "    .dataframe thead tr:only-child th {\n",
       "        text-align: right;\n",
       "    }\n",
       "\n",
       "    .dataframe thead th {\n",
       "        text-align: left;\n",
       "    }\n",
       "\n",
       "    .dataframe tbody tr th {\n",
       "        vertical-align: top;\n",
       "    }\n",
       "</style>\n",
       "<table border=\"1\" class=\"dataframe\">\n",
       "  <thead>\n",
       "    <tr style=\"text-align: right;\">\n",
       "      <th></th>\n",
       "      <th>x</th>\n",
       "      <th>y</th>\n",
       "      <th>r</th>\n",
       "    </tr>\n",
       "  </thead>\n",
       "  <tbody>\n",
       "    <tr>\n",
       "      <th>0</th>\n",
       "      <td>0.251776</td>\n",
       "      <td>0.307075</td>\n",
       "      <td>0.397097</td>\n",
       "    </tr>\n",
       "    <tr>\n",
       "      <th>1</th>\n",
       "      <td>0.914930</td>\n",
       "      <td>0.888205</td>\n",
       "      <td>1.275149</td>\n",
       "    </tr>\n",
       "    <tr>\n",
       "      <th>2</th>\n",
       "      <td>0.974137</td>\n",
       "      <td>0.025060</td>\n",
       "      <td>0.974459</td>\n",
       "    </tr>\n",
       "    <tr>\n",
       "      <th>3</th>\n",
       "      <td>0.284859</td>\n",
       "      <td>0.788352</td>\n",
       "      <td>0.838239</td>\n",
       "    </tr>\n",
       "    <tr>\n",
       "      <th>4</th>\n",
       "      <td>0.079020</td>\n",
       "      <td>0.286590</td>\n",
       "      <td>0.297284</td>\n",
       "    </tr>\n",
       "  </tbody>\n",
       "</table>\n",
       "</div>"
      ],
      "text/plain": [
       "          x         y         r\n",
       "0  0.251776  0.307075  0.397097\n",
       "1  0.914930  0.888205  1.275149\n",
       "2  0.974137  0.025060  0.974459\n",
       "3  0.284859  0.788352  0.838239\n",
       "4  0.079020  0.286590  0.297284"
      ]
     },
     "execution_count": 34,
     "metadata": {},
     "output_type": "execute_result"
    }
   ],
   "source": [
    "data"
   ]
  },
  {
   "cell_type": "code",
   "execution_count": 36,
   "metadata": {
    "collapsed": false
   },
   "outputs": [],
   "source": [
    "evevtarray = np.random.randn(10000,2)"
   ]
  },
  {
   "cell_type": "code",
   "execution_count": 39,
   "metadata": {
    "collapsed": false
   },
   "outputs": [],
   "source": [
    "eventdf = pd.DataFrame(evevtarray, columns=['x','y'])"
   ]
  },
  {
   "cell_type": "code",
   "execution_count": 38,
   "metadata": {
    "collapsed": true
   },
   "outputs": [],
   "source": [
    "%matplotlib inline\n",
    "\n",
    "import matplotlib.pyplot as plt\n",
    "\n",
    "\n",
    "plt.rcParams.update({'font.family':'cmr10','font.size': 13})\n",
    "plt.rcParams['axes.unicode_minus']=False\n",
    "plt.rcParams['axes.labelsize']=15\n",
    "plt.rcParams['figure.figsize']=(4,4)"
   ]
  },
  {
   "cell_type": "markdown",
   "metadata": {},
   "source": [
    "\\begin{equation}\n",
    "\\psi(x)\n",
    "\\end{equation}"
   ]
  },
  {
   "cell_type": "code",
   "execution_count": 42,
   "metadata": {
    "collapsed": false
   },
   "outputs": [
    {
     "data": {
      "image/png": "[encoded data removed]",
      "text/plain": [
       "<matplotlib.figure.Figure at 0x10d91b7d0>"
      ]
     },
     "metadata": {},
     "output_type": "display_data"
    }
   ],
   "source": [
    "plt.hist(eventdf['x'], bins=100, histtype='step')\n",
    "plt.xlabel('$x^2 +y^2$')\n",
    "plt.title()\n",
    "plt.show()"
   ]
  },
  {
   "cell_type": "code",
   "execution_count": 57,
   "metadata": {
    "collapsed": false
   },
   "outputs": [
    {
     "data": {
      "image/png": "[encoded data removed]",
      "text/plain": [
       "<matplotlib.figure.Figure at 0x10e5903d0>"
      ]
     },
     "metadata": {},
     "output_type": "display_data"
    }
   ],
   "source": [
    "x = np.linspace(-np.pi, np.pi)\n",
    "\n",
    "plt.figure(figsize=(8,4))\n",
    "\n",
    "plt.subplot(1,2,2)\n",
    "plt.scatter(x, x)\n",
    "plt.xlabel('$x$')\n",
    "\n",
    "plt.subplot(1,2,1)\n",
    "plt.plot(x, np.sin(x), label='sin')\n",
    "plt.plot(x, np.cos(x), label='cos')\n",
    "plt.legend(bbox_to_anchor=(1.5,1), frameon=False)\n",
    "plt.title('trig')\n",
    "\n",
    "\n",
    "\n",
    "plt.savefig('sin.pdf')"
   ]
  },
  {
   "cell_type": "code",
   "execution_count": 50,
   "metadata": {
    "collapsed": true
   },
   "outputs": [],
   "source": [
    "?plt.legend()"
   ]
  },
  {
   "cell_type": "code",
   "execution_count": 61,
   "metadata": {
    "collapsed": false
   },
   "outputs": [],
   "source": [
    "gbb = pd.read_csv('../Data/Gamma_to_bb.dat')"
   ]
  },
  {
   "cell_type": "code",
   "execution_count": 63,
   "metadata": {
    "collapsed": false,
    "scrolled": true
   },
   "outputs": [
    {
     "data": {
      "text/html": [
       "<div>\n",
       "<style>\n",
       "    .dataframe thead tr:only-child th {\n",
       "        text-align: right;\n",
       "    }\n",
       "\n",
       "    .dataframe thead th {\n",
       "        text-align: left;\n",
       "    }\n",
       "\n",
       "    .dataframe tbody tr th {\n",
       "        vertical-align: top;\n",
       "    }\n",
       "</style>\n",
       "<table border=\"1\" class=\"dataframe\">\n",
       "  <thead>\n",
       "    <tr style=\"text-align: right;\">\n",
       "      <th></th>\n",
       "      <th>Unnamed: 0</th>\n",
       "      <th>e1</th>\n",
       "      <th>px1</th>\n",
       "      <th>py1</th>\n",
       "      <th>pz1</th>\n",
       "      <th>pt1</th>\n",
       "      <th>e2</th>\n",
       "      <th>px2</th>\n",
       "      <th>py2</th>\n",
       "      <th>pz2</th>\n",
       "      <th>pt2</th>\n",
       "      <th>minv</th>\n",
       "    </tr>\n",
       "  </thead>\n",
       "  <tbody>\n",
       "    <tr>\n",
       "      <th>0</th>\n",
       "      <td>0</td>\n",
       "      <td>884.805200</td>\n",
       "      <td>31.188352</td>\n",
       "      <td>8.347662</td>\n",
       "      <td>884.203458</td>\n",
       "      <td>32.286170</td>\n",
       "      <td>419.014867</td>\n",
       "      <td>-31.188352</td>\n",
       "      <td>-8.347662</td>\n",
       "      <td>417.742710</td>\n",
       "      <td>32.286170</td>\n",
       "      <td>69.878051</td>\n",
       "    </tr>\n",
       "    <tr>\n",
       "      <th>1</th>\n",
       "      <td>1</td>\n",
       "      <td>432.257221</td>\n",
       "      <td>-3.065846</td>\n",
       "      <td>-20.037100</td>\n",
       "      <td>431.756101</td>\n",
       "      <td>20.270293</td>\n",
       "      <td>48.990128</td>\n",
       "      <td>3.065846</td>\n",
       "      <td>20.037100</td>\n",
       "      <td>44.351526</td>\n",
       "      <td>20.270293</td>\n",
       "      <td>70.146554</td>\n",
       "    </tr>\n",
       "    <tr>\n",
       "      <th>2</th>\n",
       "      <td>2</td>\n",
       "      <td>29.378031</td>\n",
       "      <td>23.089512</td>\n",
       "      <td>-17.516893</td>\n",
       "      <td>1.005776</td>\n",
       "      <td>28.982186</td>\n",
       "      <td>38.125209</td>\n",
       "      <td>-23.089512</td>\n",
       "      <td>17.516893</td>\n",
       "      <td>-24.320248</td>\n",
       "      <td>28.982186</td>\n",
       "      <td>63.349212</td>\n",
       "    </tr>\n",
       "    <tr>\n",
       "      <th>3</th>\n",
       "      <td>3</td>\n",
       "      <td>50.486271</td>\n",
       "      <td>34.269062</td>\n",
       "      <td>-3.224762</td>\n",
       "      <td>-36.633399</td>\n",
       "      <td>34.420454</td>\n",
       "      <td>44.585954</td>\n",
       "      <td>-34.269062</td>\n",
       "      <td>3.224762</td>\n",
       "      <td>27.947265</td>\n",
       "      <td>34.420454</td>\n",
       "      <td>94.674596</td>\n",
       "    </tr>\n",
       "    <tr>\n",
       "      <th>4</th>\n",
       "      <td>4</td>\n",
       "      <td>235.337888</td>\n",
       "      <td>34.836681</td>\n",
       "      <td>27.250223</td>\n",
       "      <td>231.096652</td>\n",
       "      <td>44.228599</td>\n",
       "      <td>188.049015</td>\n",
       "      <td>-34.836681</td>\n",
       "      <td>-27.250223</td>\n",
       "      <td>182.713363</td>\n",
       "      <td>44.228599</td>\n",
       "      <td>89.541839</td>\n",
       "    </tr>\n",
       "    <tr>\n",
       "      <th>5</th>\n",
       "      <td>5</td>\n",
       "      <td>258.936227</td>\n",
       "      <td>-30.844883</td>\n",
       "      <td>-44.124885</td>\n",
       "      <td>253.234017</td>\n",
       "      <td>53.836904</td>\n",
       "      <td>121.429927</td>\n",
       "      <td>30.844883</td>\n",
       "      <td>44.124885</td>\n",
       "      <td>108.741551</td>\n",
       "      <td>53.836904</td>\n",
       "      <td>116.842198</td>\n",
       "    </tr>\n",
       "    <tr>\n",
       "      <th>6</th>\n",
       "      <td>6</td>\n",
       "      <td>1180.647697</td>\n",
       "      <td>29.689509</td>\n",
       "      <td>8.080539</td>\n",
       "      <td>1180.237320</td>\n",
       "      <td>30.769499</td>\n",
       "      <td>188.702444</td>\n",
       "      <td>-29.689509</td>\n",
       "      <td>-8.080539</td>\n",
       "      <td>186.117598</td>\n",
       "      <td>30.769499</td>\n",
       "      <td>90.520969</td>\n",
       "    </tr>\n",
       "    <tr>\n",
       "      <th>7</th>\n",
       "      <td>7</td>\n",
       "      <td>598.646932</td>\n",
       "      <td>-2.477998</td>\n",
       "      <td>-5.860030</td>\n",
       "      <td>598.594670</td>\n",
       "      <td>6.362423</td>\n",
       "      <td>12.213672</td>\n",
       "      <td>2.477998</td>\n",
       "      <td>5.860030</td>\n",
       "      <td>9.306093</td>\n",
       "      <td>6.362423</td>\n",
       "      <td>60.061140</td>\n",
       "    </tr>\n",
       "    <tr>\n",
       "      <th>8</th>\n",
       "      <td>8</td>\n",
       "      <td>200.947293</td>\n",
       "      <td>-0.520487</td>\n",
       "      <td>32.793097</td>\n",
       "      <td>198.197039</td>\n",
       "      <td>32.797228</td>\n",
       "      <td>345.340946</td>\n",
       "      <td>0.520487</td>\n",
       "      <td>-32.793097</td>\n",
       "      <td>343.747903</td>\n",
       "      <td>32.797228</td>\n",
       "      <td>68.749687</td>\n",
       "    </tr>\n",
       "    <tr>\n",
       "      <th>9</th>\n",
       "      <td>9</td>\n",
       "      <td>440.461075</td>\n",
       "      <td>-15.335037</td>\n",
       "      <td>16.836493</td>\n",
       "      <td>-439.846834</td>\n",
       "      <td>22.773468</td>\n",
       "      <td>1984.806783</td>\n",
       "      <td>15.335037</td>\n",
       "      <td>-16.836493</td>\n",
       "      <td>-1984.670563</td>\n",
       "      <td>22.773468</td>\n",
       "      <td>60.328855</td>\n",
       "    </tr>\n",
       "  </tbody>\n",
       "</table>\n",
       "</div>"
      ],
      "text/plain": [
       "   Unnamed: 0           e1        px1        py1          pz1        pt1  \\\n",
       "0           0   884.805200  31.188352   8.347662   884.203458  32.286170   \n",
       "1           1   432.257221  -3.065846 -20.037100   431.756101  20.270293   \n",
       "2           2    29.378031  23.089512 -17.516893     1.005776  28.982186   \n",
       "3           3    50.486271  34.269062  -3.224762   -36.633399  34.420454   \n",
       "4           4   235.337888  34.836681  27.250223   231.096652  44.228599   \n",
       "5           5   258.936227 -30.844883 -44.124885   253.234017  53.836904   \n",
       "6           6  1180.647697  29.689509   8.080539  1180.237320  30.769499   \n",
       "7           7   598.646932  -2.477998  -5.860030   598.594670   6.362423   \n",
       "8           8   200.947293  -0.520487  32.793097   198.197039  32.797228   \n",
       "9           9   440.461075 -15.335037  16.836493  -439.846834  22.773468   \n",
       "\n",
       "            e2        px2        py2          pz2        pt2        minv  \n",
       "0   419.014867 -31.188352  -8.347662   417.742710  32.286170   69.878051  \n",
       "1    48.990128   3.065846  20.037100    44.351526  20.270293   70.146554  \n",
       "2    38.125209 -23.089512  17.516893   -24.320248  28.982186   63.349212  \n",
       "3    44.585954 -34.269062   3.224762    27.947265  34.420454   94.674596  \n",
       "4   188.049015 -34.836681 -27.250223   182.713363  44.228599   89.541839  \n",
       "5   121.429927  30.844883  44.124885   108.741551  53.836904  116.842198  \n",
       "6   188.702444 -29.689509  -8.080539   186.117598  30.769499   90.520969  \n",
       "7    12.213672   2.477998   5.860030     9.306093   6.362423   60.061140  \n",
       "8   345.340946   0.520487 -32.793097   343.747903  32.797228   68.749687  \n",
       "9  1984.806783  15.335037 -16.836493 -1984.670563  22.773468   60.328855  "
      ]
     },
     "execution_count": 63,
     "metadata": {},
     "output_type": "execute_result"
    }
   ],
   "source": [
    "gbb.head(10)"
   ]
  },
  {
   "cell_type": "code",
   "execution_count": null,
   "metadata": {
    "collapsed": true
   },
   "outputs": [],
   "source": []
  }
 ],
 "metadata": {
  "anaconda-cloud": {},
  "kernelspec": {
   "display_name": "Python [conda root]",
   "language": "python",
   "name": "conda-root-py"
  },
  "language_info": {
   "codemirror_mode": {
    "name": "ipython",
    "version": 2
   },
   "file_extension": ".py",
   "mimetype": "text/x-python",
   "name": "python",
   "nbconvert_exporter": "python",
   "pygments_lexer": "ipython2",
   "version": "2.7.12"
  },
  "toc": {
   "colors": {
    "hover_highlight": "#DAA520",
    "navigate_num": "#000000",
    "navigate_text": "#333333",
    "running_highlight": "#FF0000",
    "selected_highlight": "#FFD700",
    "sidebar_border": "#EEEEEE",
    "wrapper_background": "#FFFFFF"
   },
   "moveMenuLeft": true,
   "nav_menu": {
    "height": "12px",
    "width": "252px"
   },
   "navigate_menu": true,
   "number_sections": true,
   "sideBar": true,
   "threshold": 4,
   "toc_cell": true,
   "toc_section_display": "block",
   "toc_window_display": true,
   "widenNotebook": false
  }
 },
 "nbformat": 4,
 "nbformat_minor": 1
}
