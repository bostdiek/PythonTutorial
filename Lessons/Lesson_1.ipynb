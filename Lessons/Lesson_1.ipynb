{
 "cells": [
  {
   "cell_type": "markdown",
   "metadata": {
    "toc": "true"
   },
   "source": [
    "# Table of Contents\n",
    " <p><div class=\"lev1 toc-item\"><a href=\"#Data-Types\" data-toc-modified-id=\"Data-Types-1\"><span class=\"toc-item-num\">1&nbsp;&nbsp;</span>Data Types</a></div><div class=\"lev2 toc-item\"><a href=\"#Numbers\" data-toc-modified-id=\"Numbers-11\"><span class=\"toc-item-num\">1.1&nbsp;&nbsp;</span>Numbers</a></div><div class=\"lev2 toc-item\"><a href=\"#Variable-assignments\" data-toc-modified-id=\"Variable-assignments-12\"><span class=\"toc-item-num\">1.2&nbsp;&nbsp;</span>Variable assignments</a></div><div class=\"lev2 toc-item\"><a href=\"#Tuples\" data-toc-modified-id=\"Tuples-13\"><span class=\"toc-item-num\">1.3&nbsp;&nbsp;</span>Tuples</a></div><div class=\"lev2 toc-item\"><a href=\"#Lists\" data-toc-modified-id=\"Lists-14\"><span class=\"toc-item-num\">1.4&nbsp;&nbsp;</span>Lists</a></div><div class=\"lev3 toc-item\"><a href=\"#Append-to-list\" data-toc-modified-id=\"Append-to-list-141\"><span class=\"toc-item-num\">1.4.1&nbsp;&nbsp;</span>Append to list</a></div><div class=\"lev3 toc-item\"><a href=\"#Adding-lists\" data-toc-modified-id=\"Adding-lists-142\"><span class=\"toc-item-num\">1.4.2&nbsp;&nbsp;</span>Adding lists</a></div><div class=\"lev3 toc-item\"><a href=\"#Slicing-lists\" data-toc-modified-id=\"Slicing-lists-143\"><span class=\"toc-item-num\">1.4.3&nbsp;&nbsp;</span>Slicing lists</a></div><div class=\"lev3 toc-item\"><a href=\"#Sorting\" data-toc-modified-id=\"Sorting-144\"><span class=\"toc-item-num\">1.4.4&nbsp;&nbsp;</span>Sorting</a></div><div class=\"lev2 toc-item\"><a href=\"#Dictionaries-(hash-tables)\" data-toc-modified-id=\"Dictionaries-(hash-tables)-15\"><span class=\"toc-item-num\">1.5&nbsp;&nbsp;</span>Dictionaries (hash tables)</a></div><div class=\"lev1 toc-item\"><a href=\"#Control-Statements\" data-toc-modified-id=\"Control-Statements-2\"><span class=\"toc-item-num\">2&nbsp;&nbsp;</span>Control Statements</a></div><div class=\"lev2 toc-item\"><a href=\"#For-and-while\" data-toc-modified-id=\"For-and-while-21\"><span class=\"toc-item-num\">2.1&nbsp;&nbsp;</span>For and while</a></div><div class=\"lev3 toc-item\"><a href=\"#Zip-and-enumerate\" data-toc-modified-id=\"Zip-and-enumerate-211\"><span class=\"toc-item-num\">2.1.1&nbsp;&nbsp;</span>Zip and enumerate</a></div><div class=\"lev3 toc-item\"><a href=\"#Assigning-variables-as-tuples\" data-toc-modified-id=\"Assigning-variables-as-tuples-212\"><span class=\"toc-item-num\">2.1.2&nbsp;&nbsp;</span>Assigning variables as tuples</a></div><div class=\"lev2 toc-item\"><a href=\"#If,-else\" data-toc-modified-id=\"If,-else-22\"><span class=\"toc-item-num\">2.2&nbsp;&nbsp;</span>If, else</a></div><div class=\"lev2 toc-item\"><a href=\"#Break,-continue\" data-toc-modified-id=\"Break,-continue-23\"><span class=\"toc-item-num\">2.3&nbsp;&nbsp;</span>Break, continue</a></div><div class=\"lev1 toc-item\"><a href=\"#Functions\" data-toc-modified-id=\"Functions-3\"><span class=\"toc-item-num\">3&nbsp;&nbsp;</span>Functions</a></div><div class=\"lev1 toc-item\"><a href=\"#Classes\" data-toc-modified-id=\"Classes-4\"><span class=\"toc-item-num\">4&nbsp;&nbsp;</span>Classes</a></div><div class=\"lev1 toc-item\"><a href=\"#Importing\" data-toc-modified-id=\"Importing-5\"><span class=\"toc-item-num\">5&nbsp;&nbsp;</span>Importing</a></div><div class=\"lev1 toc-item\"><a href=\"#File-I/O\" data-toc-modified-id=\"File-I/O-6\"><span class=\"toc-item-num\">6&nbsp;&nbsp;</span>File I/O</a></div><div class=\"lev2 toc-item\"><a href=\"#Saving-a-file\" data-toc-modified-id=\"Saving-a-file-61\"><span class=\"toc-item-num\">6.1&nbsp;&nbsp;</span>Saving a file</a></div><div class=\"lev2 toc-item\"><a href=\"#Read-the-file\" data-toc-modified-id=\"Read-the-file-62\"><span class=\"toc-item-num\">6.2&nbsp;&nbsp;</span>Read the file</a></div>"
   ]
  },
  {
   "cell_type": "markdown",
   "metadata": {},
   "source": [
    "This notebook will cover some of the very basics of python. Hopefully this will give a few examples that allow you to generalize to what you are trying to do. As we move on, there are a few things to keep in mind:\n",
    " * Python is an interpreted/scripting language, no compilation or linking is needed\n",
    " * Python is also a high-level, object-oreiented language\n",
    " \n",
    "# Data Types\n",
    " \n",
    "## Numbers\n",
    " \n",
    "There are some differences in math between python 2 and 3. This is most obvious in division with integers, which in python 2 is an integer (floor division) and in python 3 is always a float."
   ]
  },
  {
   "cell_type": "code",
   "execution_count": 1,
   "metadata": {
    "collapsed": false
   },
   "outputs": [
    {
     "data": {
      "text/plain": [
       "4"
      ]
     },
     "execution_count": 1,
     "metadata": {},
     "output_type": "execute_result"
    }
   ],
   "source": [
    "# comments in pyton are done with a '#'\n",
    "# python has integers and floats\n",
    "2 + 2"
   ]
  },
  {
   "cell_type": "code",
   "execution_count": 2,
   "metadata": {
    "collapsed": false
   },
   "outputs": [
    {
     "data": {
      "text/plain": [
       "4.0"
      ]
     },
     "execution_count": 2,
     "metadata": {},
     "output_type": "execute_result"
    }
   ],
   "source": [
    "2.0 + 2.0"
   ]
  },
  {
   "cell_type": "code",
   "execution_count": 3,
   "metadata": {
    "collapsed": false
   },
   "outputs": [
    {
     "name": "stdout",
     "output_type": "stream",
     "text": [
      "2 2.66666666667\n"
     ]
    }
   ],
   "source": [
    "print 8/3, 8.0 / 3"
   ]
  },
  {
   "cell_type": "code",
   "execution_count": 4,
   "metadata": {
    "collapsed": true
   },
   "outputs": [],
   "source": [
    "# the remainder can be obtained with %"
   ]
  },
  {
   "cell_type": "code",
   "execution_count": 5,
   "metadata": {
    "collapsed": false
   },
   "outputs": [
    {
     "data": {
      "text/plain": [
       "2"
      ]
     },
     "execution_count": 5,
     "metadata": {},
     "output_type": "execute_result"
    }
   ],
   "source": [
    "8%3"
   ]
  },
  {
   "cell_type": "markdown",
   "metadata": {},
   "source": [
    "## Variable assignments\n",
    "The type of a variable is implicity chosen in python, you do not need to specify if it is an integer, float, or string."
   ]
  },
  {
   "cell_type": "code",
   "execution_count": 6,
   "metadata": {
    "collapsed": false
   },
   "outputs": [
    {
     "name": "stdout",
     "output_type": "stream",
     "text": [
      "160.0494\n"
     ]
    }
   ],
   "source": [
    "tax = 0.06\n",
    "price = 150.99\n",
    "\n",
    "total = price * (1 + tax)\n",
    "\n",
    "print total"
   ]
  },
  {
   "cell_type": "code",
   "execution_count": 7,
   "metadata": {
    "collapsed": false
   },
   "outputs": [
    {
     "name": "stdout",
     "output_type": "stream",
     "text": [
      "The rounded total is 160.05\n"
     ]
    }
   ],
   "source": [
    "# One way to limit the precision on a number is like this\n",
    "print 'The rounded total is {0:.2f}'.format(total) \n",
    "# the {0} says to take the first argument, the :.2f says to print as a float with 2 decimal places"
   ]
  },
  {
   "cell_type": "markdown",
   "metadata": {},
   "source": [
    "We also can recast a variable to a different data type"
   ]
  },
  {
   "cell_type": "code",
   "execution_count": 8,
   "metadata": {
    "collapsed": false
   },
   "outputs": [
    {
     "name": "stdout",
     "output_type": "stream",
     "text": [
      "160\n"
     ]
    }
   ],
   "source": [
    "total = int(total)\n",
    "print total"
   ]
  },
  {
   "cell_type": "markdown",
   "metadata": {},
   "source": [
    "## Tuples\n",
    "Tuples are 1-dimensional object that can be of mixed type. They can be especially useful we setting variables values."
   ]
  },
  {
   "cell_type": "code",
   "execution_count": 9,
   "metadata": {
    "collapsed": false
   },
   "outputs": [
    {
     "data": {
      "text/plain": [
       "(3, 4, 8)"
      ]
     },
     "execution_count": 9,
     "metadata": {},
     "output_type": "execute_result"
    }
   ],
   "source": [
    "3, 4, 8"
   ]
  },
  {
   "cell_type": "code",
   "execution_count": 10,
   "metadata": {
    "collapsed": false
   },
   "outputs": [
    {
     "name": "stdout",
     "output_type": "stream",
     "text": [
      "3\n",
      "4\n",
      "8\n"
     ]
    }
   ],
   "source": [
    "x,y,z = (3,4,8)\n",
    "print x\n",
    "print y\n",
    "print z"
   ]
  },
  {
   "cell_type": "markdown",
   "metadata": {},
   "source": [
    "Tuples can have parenthesis, but do not need them. We can also assign a name to a tuple. However, they are immutable."
   ]
  },
  {
   "cell_type": "code",
   "execution_count": 11,
   "metadata": {
    "collapsed": true
   },
   "outputs": [],
   "source": [
    "my_tup = 3.0, 6, 13.1, 's'"
   ]
  },
  {
   "cell_type": "code",
   "execution_count": 12,
   "metadata": {
    "collapsed": false
   },
   "outputs": [
    {
     "name": "stdout",
     "output_type": "stream",
     "text": [
      "(3.0, 6, 13.1, 's')\n"
     ]
    }
   ],
   "source": [
    "print my_tup"
   ]
  },
  {
   "cell_type": "code",
   "execution_count": 13,
   "metadata": {
    "collapsed": false
   },
   "outputs": [
    {
     "data": {
      "text/plain": [
       "13.1"
      ]
     },
     "execution_count": 13,
     "metadata": {},
     "output_type": "execute_result"
    }
   ],
   "source": [
    "my_tup[2]"
   ]
  },
  {
   "cell_type": "code",
   "execution_count": 14,
   "metadata": {
    "collapsed": false
   },
   "outputs": [
    {
     "ename": "TypeError",
     "evalue": "'tuple' object does not support item assignment",
     "output_type": "error",
     "traceback": [
      "\u001b[0;31m---------------------------------------------------------------------------\u001b[0m",
      "\u001b[0;31mTypeError\u001b[0m                                 Traceback (most recent call last)",
      "\u001b[0;32m<ipython-input-14-d7d36ec39eac>\u001b[0m in \u001b[0;36m<module>\u001b[0;34m()\u001b[0m\n\u001b[0;32m----> 1\u001b[0;31m \u001b[0mmy_tup\u001b[0m\u001b[0;34m[\u001b[0m\u001b[0;36m2\u001b[0m\u001b[0;34m]\u001b[0m \u001b[0;34m=\u001b[0m \u001b[0;34m\"NEW VALUE\"\u001b[0m \u001b[0;31m# tuples cannot be changed\u001b[0m\u001b[0;34m\u001b[0m\u001b[0m\n\u001b[0m",
      "\u001b[0;31mTypeError\u001b[0m: 'tuple' object does not support item assignment"
     ]
    }
   ],
   "source": [
    "my_tup[2] = \"NEW VALUE\" # tuples cannot be changed"
   ]
  },
  {
   "cell_type": "markdown",
   "metadata": {},
   "source": [
    "## Lists\n",
    "A list looks similar to a tupple, and uses square brackets. As with a tupple, a list can have different data types for each element. This can include more lists and tuples."
   ]
  },
  {
   "cell_type": "code",
   "execution_count": 15,
   "metadata": {
    "collapsed": true
   },
   "outputs": [],
   "source": [
    "my_list = [1.0, 2, 's']"
   ]
  },
  {
   "cell_type": "code",
   "execution_count": 16,
   "metadata": {
    "collapsed": false
   },
   "outputs": [
    {
     "data": {
      "text/plain": [
       "1.0"
      ]
     },
     "execution_count": 16,
     "metadata": {},
     "output_type": "execute_result"
    }
   ],
   "source": [
    "my_list[0]"
   ]
  },
  {
   "cell_type": "code",
   "execution_count": 17,
   "metadata": {
    "collapsed": false
   },
   "outputs": [
    {
     "name": "stdout",
     "output_type": "stream",
     "text": [
      "[1.0, 2, 42]\n"
     ]
    }
   ],
   "source": [
    "# change the value of the last element in the list\n",
    "my_list[2] = 42\n",
    "print my_list"
   ]
  },
  {
   "cell_type": "markdown",
   "metadata": {},
   "source": [
    "As with many of the data types listed here, there are many propties that I am not covering. One very useful to know about lists is how to append them. Also important is that they can be sliced easily.\n",
    "### Append to list"
   ]
  },
  {
   "cell_type": "code",
   "execution_count": 18,
   "metadata": {
    "collapsed": false
   },
   "outputs": [
    {
     "name": "stdout",
     "output_type": "stream",
     "text": [
      "[1.0, 2, 42, 7.0]\n"
     ]
    }
   ],
   "source": [
    "my_list.append(7.0)\n",
    "print my_list"
   ]
  },
  {
   "cell_type": "markdown",
   "metadata": {},
   "source": [
    "### Adding lists"
   ]
  },
  {
   "cell_type": "code",
   "execution_count": 19,
   "metadata": {
    "collapsed": true
   },
   "outputs": [],
   "source": [
    "my_list = my_list + [125.5, 80.3, 91, 173.1]"
   ]
  },
  {
   "cell_type": "code",
   "execution_count": 20,
   "metadata": {
    "collapsed": false
   },
   "outputs": [
    {
     "name": "stdout",
     "output_type": "stream",
     "text": [
      "[1.0, 2, 42, 7.0, 125.5, 80.3, 91, 173.1]\n"
     ]
    }
   ],
   "source": [
    "print my_list"
   ]
  },
  {
   "cell_type": "markdown",
   "metadata": {},
   "source": [
    "### Slicing lists"
   ]
  },
  {
   "cell_type": "code",
   "execution_count": 21,
   "metadata": {
    "collapsed": false
   },
   "outputs": [
    {
     "data": {
      "text/plain": [
       "[1.0, 2, 42, 7.0, 125.5, 80.3, 91, 173.1]"
      ]
     },
     "execution_count": 21,
     "metadata": {},
     "output_type": "execute_result"
    }
   ],
   "source": [
    "my_list"
   ]
  },
  {
   "cell_type": "code",
   "execution_count": 22,
   "metadata": {
    "collapsed": false
   },
   "outputs": [
    {
     "data": {
      "text/plain": [
       "1.0"
      ]
     },
     "execution_count": 22,
     "metadata": {},
     "output_type": "execute_result"
    }
   ],
   "source": [
    "my_list[0]"
   ]
  },
  {
   "cell_type": "code",
   "execution_count": 23,
   "metadata": {
    "collapsed": false
   },
   "outputs": [
    {
     "data": {
      "text/plain": [
       "[2, 42]"
      ]
     },
     "execution_count": 23,
     "metadata": {},
     "output_type": "execute_result"
    }
   ],
   "source": [
    "my_list[1:3]"
   ]
  },
  {
   "cell_type": "code",
   "execution_count": 24,
   "metadata": {
    "collapsed": false
   },
   "outputs": [
    {
     "data": {
      "text/plain": [
       "[42, 7.0, 125.5, 80.3, 91, 173.1]"
      ]
     },
     "execution_count": 24,
     "metadata": {},
     "output_type": "execute_result"
    }
   ],
   "source": [
    "my_list[2:]"
   ]
  },
  {
   "cell_type": "code",
   "execution_count": 25,
   "metadata": {
    "collapsed": false
   },
   "outputs": [
    {
     "data": {
      "text/plain": [
       "173.1"
      ]
     },
     "execution_count": 25,
     "metadata": {},
     "output_type": "execute_result"
    }
   ],
   "source": [
    "my_list[-1]"
   ]
  },
  {
   "cell_type": "markdown",
   "metadata": {},
   "source": [
    "Assignment can also be made with slicing"
   ]
  },
  {
   "cell_type": "code",
   "execution_count": 26,
   "metadata": {
    "collapsed": true
   },
   "outputs": [],
   "source": [
    "my_list[1:4] = 'a' , 'b'"
   ]
  },
  {
   "cell_type": "code",
   "execution_count": 27,
   "metadata": {
    "collapsed": false
   },
   "outputs": [
    {
     "name": "stdout",
     "output_type": "stream",
     "text": [
      "[1.0, 'a', 'b', 125.5, 80.3, 91, 173.1]\n"
     ]
    }
   ],
   "source": [
    "print my_list"
   ]
  },
  {
   "cell_type": "markdown",
   "metadata": {},
   "source": [
    "### Sorting\n",
    "Python can automatically sort lists and other objects"
   ]
  },
  {
   "cell_type": "code",
   "execution_count": 28,
   "metadata": {
    "collapsed": false
   },
   "outputs": [
    {
     "data": {
      "text/plain": [
       "[1.0, 'a', 'b', 125.5, 80.3, 91, 173.1]"
      ]
     },
     "execution_count": 28,
     "metadata": {},
     "output_type": "execute_result"
    }
   ],
   "source": [
    "my_list"
   ]
  },
  {
   "cell_type": "code",
   "execution_count": 29,
   "metadata": {
    "collapsed": false
   },
   "outputs": [
    {
     "name": "stdout",
     "output_type": "stream",
     "text": [
      "[1.0, 80.3, 91, 125.5, 173.1, 'a', 'b']\n"
     ]
    }
   ],
   "source": [
    "print sorted(my_list)"
   ]
  },
  {
   "cell_type": "markdown",
   "metadata": {},
   "source": [
    "## Dictionaries (hash tables)\n",
    "These can also be referred to as look-up-tables."
   ]
  },
  {
   "cell_type": "code",
   "execution_count": 30,
   "metadata": {
    "collapsed": true
   },
   "outputs": [],
   "source": [
    "my_dictionary = {'Bryan': 30,\n",
    "                 'Dylan': 26\n",
    "                }"
   ]
  },
  {
   "cell_type": "code",
   "execution_count": 31,
   "metadata": {
    "collapsed": false
   },
   "outputs": [
    {
     "name": "stdout",
     "output_type": "stream",
     "text": [
      "30\n"
     ]
    }
   ],
   "source": [
    "print my_dictionary['Bryan']"
   ]
  },
  {
   "cell_type": "code",
   "execution_count": 32,
   "metadata": {
    "collapsed": true
   },
   "outputs": [],
   "source": [
    "my_dictionary['Colter'] = 9"
   ]
  },
  {
   "cell_type": "code",
   "execution_count": 33,
   "metadata": {
    "collapsed": false
   },
   "outputs": [
    {
     "name": "stdout",
     "output_type": "stream",
     "text": [
      "{'Bryan': 30, 'Dylan': 26, 'Colter': 9}\n"
     ]
    }
   ],
   "source": [
    "print my_dictionary"
   ]
  },
  {
   "cell_type": "markdown",
   "metadata": {},
   "source": [
    "# Control Statements"
   ]
  },
  {
   "cell_type": "markdown",
   "metadata": {},
   "source": [
    "## For and while\n",
    "Control statements are **NOT** done using brackets, but with indentation."
   ]
  },
  {
   "cell_type": "code",
   "execution_count": 34,
   "metadata": {
    "collapsed": false
   },
   "outputs": [
    {
     "name": "stdout",
     "output_type": "stream",
     "text": [
      "0\n",
      "1\n",
      "2\n",
      "3\n",
      "4\n",
      "5\n",
      "6\n",
      "7\n",
      "8\n",
      "9\n"
     ]
    }
   ],
   "source": [
    "i = 0\n",
    "while i < 10:\n",
    "    print i\n",
    "    i += 1 # note there is also not a ++ feature"
   ]
  },
  {
   "cell_type": "markdown",
   "metadata": {},
   "source": [
    "Python uses for loops to scan over an iterable item. Often times this is done as a list (or range). **THIS PART IS ALSO DIFFERENT BETWEEN 2 and 3**\n",
    "\n",
    "Python 2 has range and xrange functions, Python 3 only has range, but it acts like python 2's xrange"
   ]
  },
  {
   "cell_type": "code",
   "execution_count": 35,
   "metadata": {
    "collapsed": false
   },
   "outputs": [
    {
     "name": "stdout",
     "output_type": "stream",
     "text": [
      "xrange(5)\n",
      "<type 'xrange'>\n"
     ]
    }
   ],
   "source": [
    "print xrange(5)\n",
    "print type(xrange(5))"
   ]
  },
  {
   "cell_type": "markdown",
   "metadata": {},
   "source": [
    "What does xrange do? It makes generator which scans from 0 to a total length of the number given. This is how we would do a c++ style for loop."
   ]
  },
  {
   "cell_type": "code",
   "execution_count": 36,
   "metadata": {
    "collapsed": false
   },
   "outputs": [
    {
     "name": "stdout",
     "output_type": "stream",
     "text": [
      "0\n",
      "1\n",
      "2\n",
      "3\n",
      "4\n"
     ]
    }
   ],
   "source": [
    "for i in xrange(5):\n",
    "    print i"
   ]
  },
  {
   "cell_type": "markdown",
   "metadata": {},
   "source": [
    "However, if we don't actually want the numerical value of i, but are only using it as an index for a list, we can skip that step."
   ]
  },
  {
   "cell_type": "code",
   "execution_count": 37,
   "metadata": {
    "collapsed": false
   },
   "outputs": [
    {
     "name": "stdout",
     "output_type": "stream",
     "text": [
      "43\n",
      "3254\n",
      "6584\n",
      "524\n",
      "Now the pythonic way\n",
      "43\n",
      "3254\n",
      "6584\n",
      "524\n"
     ]
    }
   ],
   "source": [
    "my_list = [43, 3254, 6584, 524]\n",
    "#C++ way, don't do this\n",
    "for i in xrange(len(my_list)):\n",
    "    print my_list[i]\n",
    "\n",
    "print 'Now the pythonic way'\n",
    "# instead, just use the list\n",
    "for i in my_list:\n",
    "    print i"
   ]
  },
  {
   "cell_type": "markdown",
   "metadata": {},
   "source": [
    "### Zip and enumerate\n",
    "What if we have two lists that we want to do a for loop over? Use Zip"
   ]
  },
  {
   "cell_type": "code",
   "execution_count": 38,
   "metadata": {
    "collapsed": false
   },
   "outputs": [
    {
     "name": "stdout",
     "output_type": "stream",
     "text": [
      "The letter is: a\n",
      "*** 43\n",
      "\n",
      "The letter is: b\n",
      "*** 3254\n",
      "\n",
      "The letter is: c\n",
      "*** 6584\n",
      "\n",
      "The letter is: d\n",
      "*** 524\n",
      "\n"
     ]
    }
   ],
   "source": [
    "letters = ['a', 'b', 'c', 'd']\n",
    "\n",
    "for letter, number in zip(letters, my_list):\n",
    "    print 'The letter is:', letter\n",
    "    print '***', number\n",
    "    print"
   ]
  },
  {
   "cell_type": "markdown",
   "metadata": {},
   "source": [
    "zip can take in more than 2 lists as well, we just need to make sure the tuple before 'in' matches the same length.\n",
    "\n",
    "If we also want the actual value of the iterator, we can use enumerate"
   ]
  },
  {
   "cell_type": "code",
   "execution_count": 39,
   "metadata": {
    "collapsed": false
   },
   "outputs": [
    {
     "name": "stdout",
     "output_type": "stream",
     "text": [
      "0 a\n",
      "1 b\n",
      "2 c\n",
      "3 d\n"
     ]
    }
   ],
   "source": [
    "for i, letter in enumerate(letters):\n",
    "    print i, letter"
   ]
  },
  {
   "cell_type": "markdown",
   "metadata": {},
   "source": [
    "### Assigning variables as tuples"
   ]
  },
  {
   "cell_type": "code",
   "execution_count": 40,
   "metadata": {
    "collapsed": false
   },
   "outputs": [
    {
     "name": "stdout",
     "output_type": "stream",
     "text": [
      "1\n",
      "1\n",
      "2\n",
      "3\n",
      "5\n",
      "8\n",
      "13\n",
      "21\n",
      "34\n",
      "55\n",
      "89\n"
     ]
    }
   ],
   "source": [
    "# C style needs to use temporary variables \n",
    "a, b = 0, 1\n",
    "while b < 100:\n",
    "    print b\n",
    "    tmp = b\n",
    "    b = a + b\n",
    "    a = tmp"
   ]
  },
  {
   "cell_type": "code",
   "execution_count": 41,
   "metadata": {
    "collapsed": false
   },
   "outputs": [
    {
     "name": "stdout",
     "output_type": "stream",
     "text": [
      "1\n",
      "1\n",
      "2\n",
      "3\n",
      "5\n",
      "8\n",
      "13\n",
      "21\n",
      "34\n",
      "55\n",
      "89\n"
     ]
    }
   ],
   "source": [
    "#python can simultaneously reassign the variables\n",
    "a, b = 0,1\n",
    "while b < 100:\n",
    "    print b\n",
    "    a, b = b, a + b"
   ]
  },
  {
   "cell_type": "markdown",
   "metadata": {},
   "source": [
    "## If, else"
   ]
  },
  {
   "cell_type": "code",
   "execution_count": 42,
   "metadata": {
    "collapsed": false
   },
   "outputs": [
    {
     "name": "stdout",
     "output_type": "stream",
     "text": [
      "0 Even\n",
      "1 small odd\n",
      "2 Even\n",
      "3 small odd\n",
      "4 Even\n",
      "5 large oddity?\n",
      "6 Even\n",
      "7 large oddity?\n",
      "8 Even\n",
      "9 large oddity?\n"
     ]
    }
   ],
   "source": [
    "for i in xrange(10):\n",
    "    if i%2==0:\n",
    "        print i, 'Even'\n",
    "    elif i < 5:\n",
    "        print i, 'small odd'\n",
    "    else:\n",
    "        print i, 'large oddity?'"
   ]
  },
  {
   "cell_type": "markdown",
   "metadata": {},
   "source": [
    "## Break, continue\n",
    "I'm not going to add examples, but you can also use break and continue in the normal ways in a loop. They are used as statements (they are not a function call so do not use parenthesis())"
   ]
  },
  {
   "cell_type": "markdown",
   "metadata": {},
   "source": [
    "# Functions\n",
    "As with most programming, if you find yourself copy and pasting a lot, you may want to use a function instead. Functions, like variables, do not have an explicit type. In fact, they can have different outputs."
   ]
  },
  {
   "cell_type": "code",
   "execution_count": 43,
   "metadata": {
    "collapsed": true
   },
   "outputs": [],
   "source": [
    "def int_or_string(x, y, option='string'):\n",
    "    if option=='string':\n",
    "        return str(x) + str(y)\n",
    "    elif option== 'int':\n",
    "        return int(x) + int(y)\n",
    "    else:\n",
    "        return 'Not one of the allowed options'"
   ]
  },
  {
   "cell_type": "code",
   "execution_count": 44,
   "metadata": {
    "collapsed": false
   },
   "outputs": [
    {
     "name": "stdout",
     "output_type": "stream",
     "text": [
      "Not one of the allowed options\n",
      "3.05\n",
      "8\n",
      "Not one of the allowed options\n"
     ]
    }
   ],
   "source": [
    "my_strings = ['', 'string', 'int', 'integer']\n",
    "\n",
    "for option in my_strings:\n",
    "    print int_or_string(3.0, 5, option)"
   ]
  },
  {
   "cell_type": "markdown",
   "metadata": {},
   "source": [
    "# Classes\n",
    "This is not a lesson on object oriented programming, so you either know about classes and when to use them, or you don't. Here is an example of a class to build a tree"
   ]
  },
  {
   "cell_type": "code",
   "execution_count": 45,
   "metadata": {
    "collapsed": true
   },
   "outputs": [],
   "source": [
    "class Node:\n",
    "    def __init__(self, data):\n",
    "        self.data = data\n",
    "        self.left = None\n",
    "        self.right = None\n",
    "        \n",
    "    def add_node(self, new_number):\n",
    "        if new_number < self.data:\n",
    "            if self.left:\n",
    "                self.left.add_node(new_number)\n",
    "            else: \n",
    "                self.left = Node(new_number)\n",
    "        elif new_number > self.data:\n",
    "            if self.right:\n",
    "                self.right.add_node(new_number)\n",
    "            else:\n",
    "                self.right = Node(new_number)\n",
    "        else:\n",
    "            print new_number, \"already in tree\"\n",
    "            \n",
    "    def print_top_down(self):\n",
    "        my_queue = [self]\n",
    "        my_output = []\n",
    "        \n",
    "        for current_node in my_queue:\n",
    "            my_output.append(current_node.data)\n",
    "            if current_node.left:\n",
    "                my_queue.append(current_node.left)\n",
    "            if current_node.right:\n",
    "                my_queue.append(current_node.right)\n",
    "                \n",
    "        print ', '.join(map(str, my_output))\n",
    "        \n",
    "    def print_ordered(self):\n",
    "        my_output = []\n",
    "        self.print_ordered_helper(my_output)\n",
    "        \n",
    "        print ', '.join(map(str, my_output))\n",
    "        \n",
    "    def print_ordered_helper(self, my_output):\n",
    "        if self.left:\n",
    "            self.left.print_ordered_helper(my_output)\n",
    "        my_output.append(self.data)\n",
    "        if self.right:\n",
    "            self.right.print_ordered_helper(my_output)"
   ]
  },
  {
   "cell_type": "code",
   "execution_count": 46,
   "metadata": {
    "collapsed": false
   },
   "outputs": [
    {
     "name": "stdout",
     "output_type": "stream",
     "text": [
      "8 already in tree\n",
      "5, 2, 8, 1, 3, 6, 10, 7\n",
      "1, 2, 3, 5, 6, 7, 8, 10\n"
     ]
    }
   ],
   "source": [
    "MyTree = Node(5)\n",
    "\n",
    "for i in [2, 8, 3, 6, 1, 8, 7, 10]:\n",
    "    MyTree.add_node(i)\n",
    "    \n",
    "MyTree.print_top_down()\n",
    "MyTree.print_ordered()"
   ]
  },
  {
   "cell_type": "markdown",
   "metadata": {},
   "source": [
    "# Importing\n",
    "We can either import a whole package, or individual functions"
   ]
  },
  {
   "cell_type": "code",
   "execution_count": 47,
   "metadata": {
    "collapsed": true
   },
   "outputs": [],
   "source": [
    "import random\n",
    "from time import clock\n",
    "from math import cos, sin, sqrt, pi"
   ]
  },
  {
   "cell_type": "markdown",
   "metadata": {},
   "source": [
    "Lets look at list comprehension to see how different ways of making a random list with 10000 numbers, and how long it takes"
   ]
  },
  {
   "cell_type": "code",
   "execution_count": 48,
   "metadata": {
    "collapsed": false
   },
   "outputs": [
    {
     "name": "stdout",
     "output_type": "stream",
     "text": [
      "That took 0.00796 seconds\n"
     ]
    }
   ],
   "source": [
    "start_time = clock()\n",
    "my_random_list = [random.random() for _ in xrange(10000)]\n",
    "print 'That took {0} seconds'.format(clock() - start_time)"
   ]
  },
  {
   "cell_type": "code",
   "execution_count": 49,
   "metadata": {
    "collapsed": false
   },
   "outputs": [
    {
     "name": "stdout",
     "output_type": "stream",
     "text": [
      "Appending took 0.009195 seconds\n"
     ]
    }
   ],
   "source": [
    "start_time = clock()\n",
    "new_list = []\n",
    "for i in xrange(10000):\n",
    "    new_list.append(random.random())\n",
    "    \n",
    "print 'Appending took {0} seconds'.format(clock() - start_time)"
   ]
  },
  {
   "cell_type": "code",
   "execution_count": 50,
   "metadata": {
    "collapsed": false
   },
   "outputs": [
    {
     "data": {
      "text/plain": [
       "0.9909751704785474"
      ]
     },
     "execution_count": 50,
     "metadata": {},
     "output_type": "execute_result"
    }
   ],
   "source": [
    "sqrt(my_random_list[1])"
   ]
  },
  {
   "cell_type": "code",
   "execution_count": 51,
   "metadata": {
    "collapsed": false
   },
   "outputs": [
    {
     "data": {
      "text/plain": [
       "(1.2246467991473532e-16, -1.0)"
      ]
     },
     "execution_count": 51,
     "metadata": {},
     "output_type": "execute_result"
    }
   ],
   "source": [
    "sin(pi), cos(pi)"
   ]
  },
  {
   "cell_type": "markdown",
   "metadata": {},
   "source": [
    "# File I/O\n",
    "## Saving a file\n",
    "Lets make two random lists (x,y) and save them to a text file."
   ]
  },
  {
   "cell_type": "code",
   "execution_count": 52,
   "metadata": {
    "collapsed": true
   },
   "outputs": [],
   "source": [
    "x = [random.random() for _ in xrange(5)]\n",
    "y = [random.random() for _ in xrange(5)]\n",
    "\n",
    "with open('testIO.txt', 'w') as fout: # the 'w' says we will be writing to this file, appending would be 'a'\n",
    "    fout.write('x, y') # this does not add a new line\n",
    "    fout.write('\\n')\n",
    "    \n",
    "    for xi, yi in zip(x, y):\n",
    "        fout.write(str(xi) + ',' + str(yi) +'\\n')\n"
   ]
  },
  {
   "cell_type": "markdown",
   "metadata": {},
   "source": [
    "## Read the file"
   ]
  },
  {
   "cell_type": "code",
   "execution_count": 53,
   "metadata": {
    "collapsed": false
   },
   "outputs": [
    {
     "name": "stdout",
     "output_type": "stream",
     "text": [
      "x  y\n",
      "0.215076822655 0.355985931192\n",
      "0.301071991486 0.185826350288\n",
      "0.502702971362 0.720261502406\n",
      "0.159234126023 0.175256804107\n",
      "0.116768994316 0.75000339977\n"
     ]
    }
   ],
   "source": [
    "with open('testIO.txt') as f: # reading doesn't need an extra argument\n",
    "    for line in f:\n",
    "        xr, yr = line.strip().split(',') # remove the newline character and split at the comma\n",
    "        print xr, yr"
   ]
  },
  {
   "cell_type": "code",
   "execution_count": null,
   "metadata": {
    "collapsed": true
   },
   "outputs": [],
   "source": []
  }
 ],
 "metadata": {
  "anaconda-cloud": {},
  "kernelspec": {
   "display_name": "Python [conda root]",
   "language": "python",
   "name": "conda-root-py"
  },
  "language_info": {
   "codemirror_mode": {
    "name": "ipython",
    "version": 2
   },
   "file_extension": ".py",
   "mimetype": "text/x-python",
   "name": "python",
   "nbconvert_exporter": "python",
   "pygments_lexer": "ipython2",
   "version": "2.7.12"
  },
  "toc": {
   "colors": {
    "hover_highlight": "#DAA520",
    "navigate_num": "#000000",
    "navigate_text": "#333333",
    "running_highlight": "#FF0000",
    "selected_highlight": "#FFD700",
    "sidebar_border": "#EEEEEE",
    "wrapper_background": "#FFFFFF"
   },
   "moveMenuLeft": true,
   "nav_menu": {
    "height": "408px",
    "width": "252px"
   },
   "navigate_menu": true,
   "number_sections": true,
   "sideBar": true,
   "threshold": 4,
   "toc_cell": true,
   "toc_section_display": "block",
   "toc_window_display": true,
   "widenNotebook": false
  }
 },
 "nbformat": 4,
 "nbformat_minor": 1
}
